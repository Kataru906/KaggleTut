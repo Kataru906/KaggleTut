{
 "cells": [
  {
   "cell_type": "markdown",
   "id": "6763a6a9",
   "metadata": {
    "id": "Ck00s7mTmnjA",
    "papermill": {
     "duration": 0.0211,
     "end_time": "2023-09-08T12:02:54.556121",
     "exception": false,
     "start_time": "2023-09-08T12:02:54.535021",
     "status": "completed"
    },
    "tags": []
   },
   "source": [
    "# Spaceship Titanic Dataset with TensorFlow Decision Forests"
   ]
  },
  {
   "cell_type": "markdown",
   "id": "25948a9e",
   "metadata": {
    "id": "62leGXylmnjF",
    "papermill": {
     "duration": 0.019953,
     "end_time": "2023-09-08T12:02:54.596658",
     "exception": false,
     "start_time": "2023-09-08T12:02:54.576705",
     "status": "completed"
    },
    "tags": []
   },
   "source": [
    "This notebook walks you through how to train a baseline Random Forest model using TensorFlow Decision Forests on the Spaceship Titanic dataset made available for this competition.\n",
    "\n",
    "Roughly, the code will look as follows:\n",
    "\n",
    "```\n",
    "import tensorflow_decision_forests as tfdf\n",
    "import pandas as pd\n",
    "\n",
    "dataset = pd.read_csv(\"project/dataset.csv\")\n",
    "tf_dataset = tfdf.keras.pd_dataframe_to_tf_dataset(dataset, label=\"my_label\")\n",
    "\n",
    "model = tfdf.keras.RandomForestModel()\n",
    "model.fit(tf_dataset)\n",
    "\n",
    "print(model.summary())\n",
    "```\n",
    "\n",
    "Decision Forests are a family of tree-based models including Random Forests and Gradient Boosted Trees. They are the best place to start when working with tabular data, and will often outperform (or provide a strong baseline) before you begin experimenting with neural networks."
   ]
  },
  {
   "cell_type": "markdown",
   "id": "b0a572c1",
   "metadata": {
    "id": "UPNzfVOEmnjH",
    "papermill": {
     "duration": 0.018911,
     "end_time": "2023-09-08T12:02:54.636817",
     "exception": false,
     "start_time": "2023-09-08T12:02:54.617906",
     "status": "completed"
    },
    "tags": []
   },
   "source": [
    "# Import the library"
   ]
  },
  {
   "cell_type": "code",
   "execution_count": 1,
   "id": "3ddb4cb1",
   "metadata": {
    "execution": {
     "iopub.execute_input": "2023-09-08T12:02:54.677532Z",
     "iopub.status.busy": "2023-09-08T12:02:54.676848Z",
     "iopub.status.idle": "2023-09-08T12:03:05.694485Z",
     "shell.execute_reply": "2023-09-08T12:03:05.693085Z"
    },
    "id": "mmwBzpblmnjH",
    "papermill": {
     "duration": 11.042051,
     "end_time": "2023-09-08T12:03:05.697982",
     "exception": false,
     "start_time": "2023-09-08T12:02:54.655931",
     "status": "completed"
    },
    "tags": []
   },
   "outputs": [],
   "source": [
    "import tensorflow as tf\n",
    "import tensorflow_decision_forests as tfdf\n",
    "import pandas as pd\n",
    "import numpy as np\n",
    "import seaborn as sns\n",
    "import matplotlib.pyplot as plt"
   ]
  },
  {
   "cell_type": "code",
   "execution_count": 2,
   "id": "924910bb",
   "metadata": {
    "execution": {
     "iopub.execute_input": "2023-09-08T12:03:05.738916Z",
     "iopub.status.busy": "2023-09-08T12:03:05.738181Z",
     "iopub.status.idle": "2023-09-08T12:03:05.745782Z",
     "shell.execute_reply": "2023-09-08T12:03:05.744143Z"
    },
    "id": "grAO86gTmnjJ",
    "papermill": {
     "duration": 0.032495,
     "end_time": "2023-09-08T12:03:05.749673",
     "exception": false,
     "start_time": "2023-09-08T12:03:05.717178",
     "status": "completed"
    },
    "tags": []
   },
   "outputs": [
    {
     "name": "stdout",
     "output_type": "stream",
     "text": [
      "TensorFlow v2.11.0\n",
      "TensorFlow Decision Forests v1.2.0\n"
     ]
    }
   ],
   "source": [
    "print(\"TensorFlow v\" + tf.__version__)\n",
    "print(\"TensorFlow Decision Forests v\" + tfdf.__version__)"
   ]
  },
  {
   "cell_type": "markdown",
   "id": "a169f39f",
   "metadata": {
    "id": "6sHFpppPmnjJ",
    "papermill": {
     "duration": 0.018841,
     "end_time": "2023-09-08T12:03:05.787744",
     "exception": false,
     "start_time": "2023-09-08T12:03:05.768903",
     "status": "completed"
    },
    "tags": []
   },
   "source": [
    "# Load the Dataset"
   ]
  },
  {
   "cell_type": "code",
   "execution_count": 3,
   "id": "bde6b4ef",
   "metadata": {
    "execution": {
     "iopub.execute_input": "2023-09-08T12:03:05.828458Z",
     "iopub.status.busy": "2023-09-08T12:03:05.828020Z",
     "iopub.status.idle": "2023-09-08T12:03:05.890536Z",
     "shell.execute_reply": "2023-09-08T12:03:05.889028Z"
    },
    "id": "c1P3Y3a7mnjL",
    "papermill": {
     "duration": 0.086707,
     "end_time": "2023-09-08T12:03:05.893577",
     "exception": false,
     "start_time": "2023-09-08T12:03:05.806870",
     "status": "completed"
    },
    "tags": []
   },
   "outputs": [
    {
     "name": "stdout",
     "output_type": "stream",
     "text": [
      "Full train dataset shape is (8693, 14)\n"
     ]
    }
   ],
   "source": [
    "# Load a dataset into a Pandas Dataframe\n",
    "dataset_df = pd.read_csv('/kaggle/input/spaceship-titanic/train.csv')\n",
    "print(\"Full train dataset shape is {}\".format(dataset_df.shape))"
   ]
  },
  {
   "cell_type": "markdown",
   "id": "9381217d",
   "metadata": {
    "id": "cEd92zhJmnjL",
    "papermill": {
     "duration": 0.019139,
     "end_time": "2023-09-08T12:03:05.931996",
     "exception": false,
     "start_time": "2023-09-08T12:03:05.912857",
     "status": "completed"
    },
    "tags": []
   },
   "source": [
    "The data is composed of 14 columns and 8693 entries. We can see all 14 dimensions of our dataset by printing out the first 5 entries using the following code:"
   ]
  },
  {
   "cell_type": "code",
   "execution_count": 4,
   "id": "4c7380a8",
   "metadata": {
    "execution": {
     "iopub.execute_input": "2023-09-08T12:03:05.972938Z",
     "iopub.status.busy": "2023-09-08T12:03:05.972399Z",
     "iopub.status.idle": "2023-09-08T12:03:06.014200Z",
     "shell.execute_reply": "2023-09-08T12:03:06.012750Z"
    },
    "id": "nCx3PE1xmnjM",
    "papermill": {
     "duration": 0.066143,
     "end_time": "2023-09-08T12:03:06.017427",
     "exception": false,
     "start_time": "2023-09-08T12:03:05.951284",
     "status": "completed"
    },
    "tags": []
   },
   "outputs": [
    {
     "data": {
      "text/html": [
       "<div>\n",
       "<style scoped>\n",
       "    .dataframe tbody tr th:only-of-type {\n",
       "        vertical-align: middle;\n",
       "    }\n",
       "\n",
       "    .dataframe tbody tr th {\n",
       "        vertical-align: top;\n",
       "    }\n",
       "\n",
       "    .dataframe thead th {\n",
       "        text-align: right;\n",
       "    }\n",
       "</style>\n",
       "<table border=\"1\" class=\"dataframe\">\n",
       "  <thead>\n",
       "    <tr style=\"text-align: right;\">\n",
       "      <th></th>\n",
       "      <th>PassengerId</th>\n",
       "      <th>HomePlanet</th>\n",
       "      <th>CryoSleep</th>\n",
       "      <th>Cabin</th>\n",
       "      <th>Destination</th>\n",
       "      <th>Age</th>\n",
       "      <th>VIP</th>\n",
       "      <th>RoomService</th>\n",
       "      <th>FoodCourt</th>\n",
       "      <th>ShoppingMall</th>\n",
       "      <th>Spa</th>\n",
       "      <th>VRDeck</th>\n",
       "      <th>Name</th>\n",
       "      <th>Transported</th>\n",
       "    </tr>\n",
       "  </thead>\n",
       "  <tbody>\n",
       "    <tr>\n",
       "      <th>0</th>\n",
       "      <td>0001_01</td>\n",
       "      <td>Europa</td>\n",
       "      <td>False</td>\n",
       "      <td>B/0/P</td>\n",
       "      <td>TRAPPIST-1e</td>\n",
       "      <td>39.0</td>\n",
       "      <td>False</td>\n",
       "      <td>0.0</td>\n",
       "      <td>0.0</td>\n",
       "      <td>0.0</td>\n",
       "      <td>0.0</td>\n",
       "      <td>0.0</td>\n",
       "      <td>Maham Ofracculy</td>\n",
       "      <td>False</td>\n",
       "    </tr>\n",
       "    <tr>\n",
       "      <th>1</th>\n",
       "      <td>0002_01</td>\n",
       "      <td>Earth</td>\n",
       "      <td>False</td>\n",
       "      <td>F/0/S</td>\n",
       "      <td>TRAPPIST-1e</td>\n",
       "      <td>24.0</td>\n",
       "      <td>False</td>\n",
       "      <td>109.0</td>\n",
       "      <td>9.0</td>\n",
       "      <td>25.0</td>\n",
       "      <td>549.0</td>\n",
       "      <td>44.0</td>\n",
       "      <td>Juanna Vines</td>\n",
       "      <td>True</td>\n",
       "    </tr>\n",
       "    <tr>\n",
       "      <th>2</th>\n",
       "      <td>0003_01</td>\n",
       "      <td>Europa</td>\n",
       "      <td>False</td>\n",
       "      <td>A/0/S</td>\n",
       "      <td>TRAPPIST-1e</td>\n",
       "      <td>58.0</td>\n",
       "      <td>True</td>\n",
       "      <td>43.0</td>\n",
       "      <td>3576.0</td>\n",
       "      <td>0.0</td>\n",
       "      <td>6715.0</td>\n",
       "      <td>49.0</td>\n",
       "      <td>Altark Susent</td>\n",
       "      <td>False</td>\n",
       "    </tr>\n",
       "    <tr>\n",
       "      <th>3</th>\n",
       "      <td>0003_02</td>\n",
       "      <td>Europa</td>\n",
       "      <td>False</td>\n",
       "      <td>A/0/S</td>\n",
       "      <td>TRAPPIST-1e</td>\n",
       "      <td>33.0</td>\n",
       "      <td>False</td>\n",
       "      <td>0.0</td>\n",
       "      <td>1283.0</td>\n",
       "      <td>371.0</td>\n",
       "      <td>3329.0</td>\n",
       "      <td>193.0</td>\n",
       "      <td>Solam Susent</td>\n",
       "      <td>False</td>\n",
       "    </tr>\n",
       "    <tr>\n",
       "      <th>4</th>\n",
       "      <td>0004_01</td>\n",
       "      <td>Earth</td>\n",
       "      <td>False</td>\n",
       "      <td>F/1/S</td>\n",
       "      <td>TRAPPIST-1e</td>\n",
       "      <td>16.0</td>\n",
       "      <td>False</td>\n",
       "      <td>303.0</td>\n",
       "      <td>70.0</td>\n",
       "      <td>151.0</td>\n",
       "      <td>565.0</td>\n",
       "      <td>2.0</td>\n",
       "      <td>Willy Santantines</td>\n",
       "      <td>True</td>\n",
       "    </tr>\n",
       "  </tbody>\n",
       "</table>\n",
       "</div>"
      ],
      "text/plain": [
       "  PassengerId HomePlanet CryoSleep  Cabin  Destination   Age    VIP  \\\n",
       "0     0001_01     Europa     False  B/0/P  TRAPPIST-1e  39.0  False   \n",
       "1     0002_01      Earth     False  F/0/S  TRAPPIST-1e  24.0  False   \n",
       "2     0003_01     Europa     False  A/0/S  TRAPPIST-1e  58.0   True   \n",
       "3     0003_02     Europa     False  A/0/S  TRAPPIST-1e  33.0  False   \n",
       "4     0004_01      Earth     False  F/1/S  TRAPPIST-1e  16.0  False   \n",
       "\n",
       "   RoomService  FoodCourt  ShoppingMall     Spa  VRDeck               Name  \\\n",
       "0          0.0        0.0           0.0     0.0     0.0    Maham Ofracculy   \n",
       "1        109.0        9.0          25.0   549.0    44.0       Juanna Vines   \n",
       "2         43.0     3576.0           0.0  6715.0    49.0      Altark Susent   \n",
       "3          0.0     1283.0         371.0  3329.0   193.0       Solam Susent   \n",
       "4        303.0       70.0         151.0   565.0     2.0  Willy Santantines   \n",
       "\n",
       "   Transported  \n",
       "0        False  \n",
       "1         True  \n",
       "2        False  \n",
       "3        False  \n",
       "4         True  "
      ]
     },
     "execution_count": 4,
     "metadata": {},
     "output_type": "execute_result"
    }
   ],
   "source": [
    "# Display the first 5 examples\n",
    "dataset_df.head(5)"
   ]
  },
  {
   "cell_type": "markdown",
   "id": "fd347f2a",
   "metadata": {
    "id": "0-Euaq6dmnjN",
    "papermill": {
     "duration": 0.019359,
     "end_time": "2023-09-08T12:03:06.056660",
     "exception": false,
     "start_time": "2023-09-08T12:03:06.037301",
     "status": "completed"
    },
    "tags": []
   },
   "source": [
    "There are 12 feature columns. Using these features your model has to predict whether the passenger is rescued or not indicated by the column `Transported`."
   ]
  },
  {
   "cell_type": "markdown",
   "id": "64862b89",
   "metadata": {
    "id": "1-Ewr6XDmnjN",
    "papermill": {
     "duration": 0.019336,
     "end_time": "2023-09-08T12:03:06.095605",
     "exception": false,
     "start_time": "2023-09-08T12:03:06.076269",
     "status": "completed"
    },
    "tags": []
   },
   "source": [
    "# Let us quickly do a basic exploration of the dataset"
   ]
  },
  {
   "cell_type": "code",
   "execution_count": 5,
   "id": "6099be7f",
   "metadata": {
    "execution": {
     "iopub.execute_input": "2023-09-08T12:03:06.137167Z",
     "iopub.status.busy": "2023-09-08T12:03:06.136210Z",
     "iopub.status.idle": "2023-09-08T12:03:06.184933Z",
     "shell.execute_reply": "2023-09-08T12:03:06.183269Z"
    },
    "id": "XjwG5wjfmnjO",
    "papermill": {
     "duration": 0.072761,
     "end_time": "2023-09-08T12:03:06.187774",
     "exception": false,
     "start_time": "2023-09-08T12:03:06.115013",
     "status": "completed"
    },
    "tags": []
   },
   "outputs": [
    {
     "data": {
      "text/html": [
       "<div>\n",
       "<style scoped>\n",
       "    .dataframe tbody tr th:only-of-type {\n",
       "        vertical-align: middle;\n",
       "    }\n",
       "\n",
       "    .dataframe tbody tr th {\n",
       "        vertical-align: top;\n",
       "    }\n",
       "\n",
       "    .dataframe thead th {\n",
       "        text-align: right;\n",
       "    }\n",
       "</style>\n",
       "<table border=\"1\" class=\"dataframe\">\n",
       "  <thead>\n",
       "    <tr style=\"text-align: right;\">\n",
       "      <th></th>\n",
       "      <th>Age</th>\n",
       "      <th>RoomService</th>\n",
       "      <th>FoodCourt</th>\n",
       "      <th>ShoppingMall</th>\n",
       "      <th>Spa</th>\n",
       "      <th>VRDeck</th>\n",
       "    </tr>\n",
       "  </thead>\n",
       "  <tbody>\n",
       "    <tr>\n",
       "      <th>count</th>\n",
       "      <td>8514.000000</td>\n",
       "      <td>8512.000000</td>\n",
       "      <td>8510.000000</td>\n",
       "      <td>8485.000000</td>\n",
       "      <td>8510.000000</td>\n",
       "      <td>8505.000000</td>\n",
       "    </tr>\n",
       "    <tr>\n",
       "      <th>mean</th>\n",
       "      <td>28.827930</td>\n",
       "      <td>224.687617</td>\n",
       "      <td>458.077203</td>\n",
       "      <td>173.729169</td>\n",
       "      <td>311.138778</td>\n",
       "      <td>304.854791</td>\n",
       "    </tr>\n",
       "    <tr>\n",
       "      <th>std</th>\n",
       "      <td>14.489021</td>\n",
       "      <td>666.717663</td>\n",
       "      <td>1611.489240</td>\n",
       "      <td>604.696458</td>\n",
       "      <td>1136.705535</td>\n",
       "      <td>1145.717189</td>\n",
       "    </tr>\n",
       "    <tr>\n",
       "      <th>min</th>\n",
       "      <td>0.000000</td>\n",
       "      <td>0.000000</td>\n",
       "      <td>0.000000</td>\n",
       "      <td>0.000000</td>\n",
       "      <td>0.000000</td>\n",
       "      <td>0.000000</td>\n",
       "    </tr>\n",
       "    <tr>\n",
       "      <th>25%</th>\n",
       "      <td>19.000000</td>\n",
       "      <td>0.000000</td>\n",
       "      <td>0.000000</td>\n",
       "      <td>0.000000</td>\n",
       "      <td>0.000000</td>\n",
       "      <td>0.000000</td>\n",
       "    </tr>\n",
       "    <tr>\n",
       "      <th>50%</th>\n",
       "      <td>27.000000</td>\n",
       "      <td>0.000000</td>\n",
       "      <td>0.000000</td>\n",
       "      <td>0.000000</td>\n",
       "      <td>0.000000</td>\n",
       "      <td>0.000000</td>\n",
       "    </tr>\n",
       "    <tr>\n",
       "      <th>75%</th>\n",
       "      <td>38.000000</td>\n",
       "      <td>47.000000</td>\n",
       "      <td>76.000000</td>\n",
       "      <td>27.000000</td>\n",
       "      <td>59.000000</td>\n",
       "      <td>46.000000</td>\n",
       "    </tr>\n",
       "    <tr>\n",
       "      <th>max</th>\n",
       "      <td>79.000000</td>\n",
       "      <td>14327.000000</td>\n",
       "      <td>29813.000000</td>\n",
       "      <td>23492.000000</td>\n",
       "      <td>22408.000000</td>\n",
       "      <td>24133.000000</td>\n",
       "    </tr>\n",
       "  </tbody>\n",
       "</table>\n",
       "</div>"
      ],
      "text/plain": [
       "               Age   RoomService     FoodCourt  ShoppingMall           Spa  \\\n",
       "count  8514.000000   8512.000000   8510.000000   8485.000000   8510.000000   \n",
       "mean     28.827930    224.687617    458.077203    173.729169    311.138778   \n",
       "std      14.489021    666.717663   1611.489240    604.696458   1136.705535   \n",
       "min       0.000000      0.000000      0.000000      0.000000      0.000000   \n",
       "25%      19.000000      0.000000      0.000000      0.000000      0.000000   \n",
       "50%      27.000000      0.000000      0.000000      0.000000      0.000000   \n",
       "75%      38.000000     47.000000     76.000000     27.000000     59.000000   \n",
       "max      79.000000  14327.000000  29813.000000  23492.000000  22408.000000   \n",
       "\n",
       "             VRDeck  \n",
       "count   8505.000000  \n",
       "mean     304.854791  \n",
       "std     1145.717189  \n",
       "min        0.000000  \n",
       "25%        0.000000  \n",
       "50%        0.000000  \n",
       "75%       46.000000  \n",
       "max    24133.000000  "
      ]
     },
     "execution_count": 5,
     "metadata": {},
     "output_type": "execute_result"
    }
   ],
   "source": [
    "dataset_df.describe()"
   ]
  },
  {
   "cell_type": "code",
   "execution_count": 6,
   "id": "518c53e0",
   "metadata": {
    "execution": {
     "iopub.execute_input": "2023-09-08T12:03:06.231750Z",
     "iopub.status.busy": "2023-09-08T12:03:06.230347Z",
     "iopub.status.idle": "2023-09-08T12:03:06.261252Z",
     "shell.execute_reply": "2023-09-08T12:03:06.259321Z"
    },
    "id": "UmWpnVxQmnjO",
    "papermill": {
     "duration": 0.056773,
     "end_time": "2023-09-08T12:03:06.264616",
     "exception": false,
     "start_time": "2023-09-08T12:03:06.207843",
     "status": "completed"
    },
    "tags": []
   },
   "outputs": [
    {
     "name": "stdout",
     "output_type": "stream",
     "text": [
      "<class 'pandas.core.frame.DataFrame'>\n",
      "RangeIndex: 8693 entries, 0 to 8692\n",
      "Data columns (total 14 columns):\n",
      " #   Column        Non-Null Count  Dtype  \n",
      "---  ------        --------------  -----  \n",
      " 0   PassengerId   8693 non-null   object \n",
      " 1   HomePlanet    8492 non-null   object \n",
      " 2   CryoSleep     8476 non-null   object \n",
      " 3   Cabin         8494 non-null   object \n",
      " 4   Destination   8511 non-null   object \n",
      " 5   Age           8514 non-null   float64\n",
      " 6   VIP           8490 non-null   object \n",
      " 7   RoomService   8512 non-null   float64\n",
      " 8   FoodCourt     8510 non-null   float64\n",
      " 9   ShoppingMall  8485 non-null   float64\n",
      " 10  Spa           8510 non-null   float64\n",
      " 11  VRDeck        8505 non-null   float64\n",
      " 12  Name          8493 non-null   object \n",
      " 13  Transported   8693 non-null   bool   \n",
      "dtypes: bool(1), float64(6), object(7)\n",
      "memory usage: 891.5+ KB\n"
     ]
    }
   ],
   "source": [
    "dataset_df.info()"
   ]
  },
  {
   "cell_type": "markdown",
   "id": "adf3f898",
   "metadata": {
    "id": "PYbIPVaCmnjO",
    "papermill": {
     "duration": 0.019891,
     "end_time": "2023-09-08T12:03:06.304975",
     "exception": false,
     "start_time": "2023-09-08T12:03:06.285084",
     "status": "completed"
    },
    "tags": []
   },
   "source": [
    "# Bar chart for label column: Transported\n",
    "\n"
   ]
  },
  {
   "cell_type": "code",
   "execution_count": 7,
   "id": "ce591bfe",
   "metadata": {
    "execution": {
     "iopub.execute_input": "2023-09-08T12:03:06.347866Z",
     "iopub.status.busy": "2023-09-08T12:03:06.347402Z",
     "iopub.status.idle": "2023-09-08T12:03:06.640970Z",
     "shell.execute_reply": "2023-09-08T12:03:06.639648Z"
    },
    "id": "DcaGweARmnjP",
    "papermill": {
     "duration": 0.318546,
     "end_time": "2023-09-08T12:03:06.643833",
     "exception": false,
     "start_time": "2023-09-08T12:03:06.325287",
     "status": "completed"
    },
    "tags": []
   },
   "outputs": [
    {
     "data": {
      "text/plain": [
       "<AxesSubplot:>"
      ]
     },
     "execution_count": 7,
     "metadata": {},
     "output_type": "execute_result"
    },
    {
     "data": {
      "image/png": "[encoded data removed]",
      "text/plain": [
       "<Figure size 640x480 with 1 Axes>"
      ]
     },
     "metadata": {},
     "output_type": "display_data"
    }
   ],
   "source": [
    "plot_df = dataset_df.Transported.value_counts()\n",
    "plot_df.plot(kind=\"bar\")"
   ]
  },
  {
   "cell_type": "markdown",
   "id": "0775f076",
   "metadata": {
    "id": "LRO2hJlNmnjP",
    "papermill": {
     "duration": 0.020231,
     "end_time": "2023-09-08T12:03:06.685169",
     "exception": false,
     "start_time": "2023-09-08T12:03:06.664938",
     "status": "completed"
    },
    "tags": []
   },
   "source": [
    "# Numerical data distribution\n",
    "\n",
    "Let us plot all the numerical columns and their value counts:"
   ]
  },
  {
   "cell_type": "code",
   "execution_count": 8,
   "id": "7fb3b7d4",
   "metadata": {
    "execution": {
     "iopub.execute_input": "2023-09-08T12:03:06.728534Z",
     "iopub.status.busy": "2023-09-08T12:03:06.727971Z",
     "iopub.status.idle": "2023-09-08T12:03:08.600188Z",
     "shell.execute_reply": "2023-09-08T12:03:08.599038Z"
    },
    "id": "lafxj4fkmnjQ",
    "papermill": {
     "duration": 1.897781,
     "end_time": "2023-09-08T12:03:08.603589",
     "exception": false,
     "start_time": "2023-09-08T12:03:06.705808",
     "status": "completed"
    },
    "tags": []
   },
   "outputs": [
    {
     "data": {
      "image/png": "[encoded data removed]",
      "text/plain": [
       "<Figure size 1000x1000 with 5 Axes>"
      ]
     },
     "metadata": {},
     "output_type": "display_data"
    }
   ],
   "source": [
    "fig, ax = plt.subplots(5,1,  figsize=(10, 10))\n",
    "plt.subplots_adjust(top = 2)\n",
    "\n",
    "sns.histplot(dataset_df['Age'], color='b', bins=50, ax=ax[0]);\n",
    "sns.histplot(dataset_df['FoodCourt'], color='b', bins=50, ax=ax[1]);\n",
    "sns.histplot(dataset_df['ShoppingMall'], color='b', bins=50, ax=ax[2]);\n",
    "sns.histplot(dataset_df['Spa'], color='b', bins=50, ax=ax[3]);\n",
    "sns.histplot(dataset_df['VRDeck'], color='b', bins=50, ax=ax[4]);"
   ]
  },
  {
   "cell_type": "markdown",
   "id": "d0359cfe",
   "metadata": {
    "id": "Trlsxv1emnjQ",
    "papermill": {
     "duration": 0.022174,
     "end_time": "2023-09-08T12:03:08.648482",
     "exception": false,
     "start_time": "2023-09-08T12:03:08.626308",
     "status": "completed"
    },
    "tags": []
   },
   "source": [
    "# Prepare the dataset"
   ]
  },
  {
   "cell_type": "markdown",
   "id": "dc56d8fe",
   "metadata": {
    "id": "c-BLN1jcmnjQ",
    "papermill": {
     "duration": 0.021568,
     "end_time": "2023-09-08T12:03:08.692001",
     "exception": false,
     "start_time": "2023-09-08T12:03:08.670433",
     "status": "completed"
    },
    "tags": []
   },
   "source": [
    "We will drop both `PassengerId` and `Name` columns as they are not necessary for model training."
   ]
  },
  {
   "cell_type": "code",
   "execution_count": 9,
   "id": "2883d9ca",
   "metadata": {
    "execution": {
     "iopub.execute_input": "2023-09-08T12:03:08.738120Z",
     "iopub.status.busy": "2023-09-08T12:03:08.737343Z",
     "iopub.status.idle": "2023-09-08T12:03:08.765207Z",
     "shell.execute_reply": "2023-09-08T12:03:08.763871Z"
    },
    "id": "nftfBG67mnjR",
    "papermill": {
     "duration": 0.054195,
     "end_time": "2023-09-08T12:03:08.768047",
     "exception": false,
     "start_time": "2023-09-08T12:03:08.713852",
     "status": "completed"
    },
    "tags": []
   },
   "outputs": [
    {
     "data": {
      "text/html": [
       "<div>\n",
       "<style scoped>\n",
       "    .dataframe tbody tr th:only-of-type {\n",
       "        vertical-align: middle;\n",
       "    }\n",
       "\n",
       "    .dataframe tbody tr th {\n",
       "        vertical-align: top;\n",
       "    }\n",
       "\n",
       "    .dataframe thead th {\n",
       "        text-align: right;\n",
       "    }\n",
       "</style>\n",
       "<table border=\"1\" class=\"dataframe\">\n",
       "  <thead>\n",
       "    <tr style=\"text-align: right;\">\n",
       "      <th></th>\n",
       "      <th>HomePlanet</th>\n",
       "      <th>CryoSleep</th>\n",
       "      <th>Cabin</th>\n",
       "      <th>Destination</th>\n",
       "      <th>Age</th>\n",
       "      <th>VIP</th>\n",
       "      <th>RoomService</th>\n",
       "      <th>FoodCourt</th>\n",
       "      <th>ShoppingMall</th>\n",
       "      <th>Spa</th>\n",
       "      <th>VRDeck</th>\n",
       "      <th>Transported</th>\n",
       "    </tr>\n",
       "  </thead>\n",
       "  <tbody>\n",
       "    <tr>\n",
       "      <th>0</th>\n",
       "      <td>Europa</td>\n",
       "      <td>False</td>\n",
       "      <td>B/0/P</td>\n",
       "      <td>TRAPPIST-1e</td>\n",
       "      <td>39.0</td>\n",
       "      <td>False</td>\n",
       "      <td>0.0</td>\n",
       "      <td>0.0</td>\n",
       "      <td>0.0</td>\n",
       "      <td>0.0</td>\n",
       "      <td>0.0</td>\n",
       "      <td>False</td>\n",
       "    </tr>\n",
       "    <tr>\n",
       "      <th>1</th>\n",
       "      <td>Earth</td>\n",
       "      <td>False</td>\n",
       "      <td>F/0/S</td>\n",
       "      <td>TRAPPIST-1e</td>\n",
       "      <td>24.0</td>\n",
       "      <td>False</td>\n",
       "      <td>109.0</td>\n",
       "      <td>9.0</td>\n",
       "      <td>25.0</td>\n",
       "      <td>549.0</td>\n",
       "      <td>44.0</td>\n",
       "      <td>True</td>\n",
       "    </tr>\n",
       "    <tr>\n",
       "      <th>2</th>\n",
       "      <td>Europa</td>\n",
       "      <td>False</td>\n",
       "      <td>A/0/S</td>\n",
       "      <td>TRAPPIST-1e</td>\n",
       "      <td>58.0</td>\n",
       "      <td>True</td>\n",
       "      <td>43.0</td>\n",
       "      <td>3576.0</td>\n",
       "      <td>0.0</td>\n",
       "      <td>6715.0</td>\n",
       "      <td>49.0</td>\n",
       "      <td>False</td>\n",
       "    </tr>\n",
       "    <tr>\n",
       "      <th>3</th>\n",
       "      <td>Europa</td>\n",
       "      <td>False</td>\n",
       "      <td>A/0/S</td>\n",
       "      <td>TRAPPIST-1e</td>\n",
       "      <td>33.0</td>\n",
       "      <td>False</td>\n",
       "      <td>0.0</td>\n",
       "      <td>1283.0</td>\n",
       "      <td>371.0</td>\n",
       "      <td>3329.0</td>\n",
       "      <td>193.0</td>\n",
       "      <td>False</td>\n",
       "    </tr>\n",
       "    <tr>\n",
       "      <th>4</th>\n",
       "      <td>Earth</td>\n",
       "      <td>False</td>\n",
       "      <td>F/1/S</td>\n",
       "      <td>TRAPPIST-1e</td>\n",
       "      <td>16.0</td>\n",
       "      <td>False</td>\n",
       "      <td>303.0</td>\n",
       "      <td>70.0</td>\n",
       "      <td>151.0</td>\n",
       "      <td>565.0</td>\n",
       "      <td>2.0</td>\n",
       "      <td>True</td>\n",
       "    </tr>\n",
       "  </tbody>\n",
       "</table>\n",
       "</div>"
      ],
      "text/plain": [
       "  HomePlanet CryoSleep  Cabin  Destination   Age    VIP  RoomService  \\\n",
       "0     Europa     False  B/0/P  TRAPPIST-1e  39.0  False          0.0   \n",
       "1      Earth     False  F/0/S  TRAPPIST-1e  24.0  False        109.0   \n",
       "2     Europa     False  A/0/S  TRAPPIST-1e  58.0   True         43.0   \n",
       "3     Europa     False  A/0/S  TRAPPIST-1e  33.0  False          0.0   \n",
       "4      Earth     False  F/1/S  TRAPPIST-1e  16.0  False        303.0   \n",
       "\n",
       "   FoodCourt  ShoppingMall     Spa  VRDeck  Transported  \n",
       "0        0.0           0.0     0.0     0.0        False  \n",
       "1        9.0          25.0   549.0    44.0         True  \n",
       "2     3576.0           0.0  6715.0    49.0        False  \n",
       "3     1283.0         371.0  3329.0   193.0        False  \n",
       "4       70.0         151.0   565.0     2.0         True  "
      ]
     },
     "execution_count": 9,
     "metadata": {},
     "output_type": "execute_result"
    }
   ],
   "source": [
    "dataset_df = dataset_df.drop(['PassengerId', 'Name'], axis=1)\n",
    "dataset_df.head(5)"
   ]
  },
  {
   "cell_type": "markdown",
   "id": "f728f197",
   "metadata": {
    "id": "pXhbIKCemnjR",
    "papermill": {
     "duration": 0.022244,
     "end_time": "2023-09-08T12:03:08.813374",
     "exception": false,
     "start_time": "2023-09-08T12:03:08.791130",
     "status": "completed"
    },
    "tags": []
   },
   "source": [
    "We will check for the missing values using the following code:"
   ]
  },
  {
   "cell_type": "code",
   "execution_count": 10,
   "id": "659f12de",
   "metadata": {
    "execution": {
     "iopub.execute_input": "2023-09-08T12:03:08.860797Z",
     "iopub.status.busy": "2023-09-08T12:03:08.859970Z",
     "iopub.status.idle": "2023-09-08T12:03:08.877702Z",
     "shell.execute_reply": "2023-09-08T12:03:08.876098Z"
    },
    "id": "3_VMZ9a1mnjR",
    "papermill": {
     "duration": 0.044797,
     "end_time": "2023-09-08T12:03:08.880744",
     "exception": false,
     "start_time": "2023-09-08T12:03:08.835947",
     "status": "completed"
    },
    "tags": []
   },
   "outputs": [
    {
     "data": {
      "text/plain": [
       "CryoSleep       217\n",
       "ShoppingMall    208\n",
       "VIP             203\n",
       "HomePlanet      201\n",
       "Cabin           199\n",
       "VRDeck          188\n",
       "FoodCourt       183\n",
       "Spa             183\n",
       "Destination     182\n",
       "RoomService     181\n",
       "Age             179\n",
       "Transported       0\n",
       "dtype: int64"
      ]
     },
     "execution_count": 10,
     "metadata": {},
     "output_type": "execute_result"
    }
   ],
   "source": [
    "dataset_df.isnull().sum().sort_values(ascending=False)"
   ]
  },
  {
   "cell_type": "markdown",
   "id": "1afd818d",
   "metadata": {
    "id": "vlWOQl4fmnjS",
    "papermill": {
     "duration": 0.02233,
     "end_time": "2023-09-08T12:03:08.925652",
     "exception": false,
     "start_time": "2023-09-08T12:03:08.903322",
     "status": "completed"
    },
    "tags": []
   },
   "source": [
    "This dataset contains a mix of numeric, categorical and missing features. TF-DF supports all these feature types natively, and no preprocessing is required.\n",
    "\n",
    "But this datatset also has boolean fields with missing values. TF-DF doesn't support boolean fields yet. So we need to convert those fields into int. To account for the missing values in the boolean fields, we will replace them with zero.\n",
    "\n",
    "In this notebook, we will replace null value entries with zero for numerical columns as well and only let TF-DF handle the missing values in categorical columns.\n",
    "\n",
    "Note: You can choose to let TF-DF handle missing values in numerical columns if need be."
   ]
  },
  {
   "cell_type": "code",
   "execution_count": 11,
   "id": "73bc9ece",
   "metadata": {
    "execution": {
     "iopub.execute_input": "2023-09-08T12:03:08.972987Z",
     "iopub.status.busy": "2023-09-08T12:03:08.972469Z",
     "iopub.status.idle": "2023-09-08T12:03:08.998272Z",
     "shell.execute_reply": "2023-09-08T12:03:08.996788Z"
    },
    "id": "ASQ5Bh2JmnjS",
    "papermill": {
     "duration": 0.052717,
     "end_time": "2023-09-08T12:03:09.001107",
     "exception": false,
     "start_time": "2023-09-08T12:03:08.948390",
     "status": "completed"
    },
    "tags": []
   },
   "outputs": [
    {
     "data": {
      "text/plain": [
       "HomePlanet      201\n",
       "Cabin           199\n",
       "Destination     182\n",
       "RoomService     181\n",
       "Age             179\n",
       "CryoSleep         0\n",
       "VIP               0\n",
       "FoodCourt         0\n",
       "ShoppingMall      0\n",
       "Spa               0\n",
       "VRDeck            0\n",
       "Transported       0\n",
       "dtype: int64"
      ]
     },
     "execution_count": 11,
     "metadata": {},
     "output_type": "execute_result"
    }
   ],
   "source": [
    "dataset_df[['VIP', 'CryoSleep', 'FoodCourt', 'ShoppingMall', 'Spa', 'VRDeck']] = dataset_df[['VIP', 'CryoSleep', 'FoodCourt', 'ShoppingMall', 'Spa', 'VRDeck']].fillna(value=0)\n",
    "dataset_df.isnull().sum().sort_values(ascending=False)"
   ]
  },
  {
   "cell_type": "markdown",
   "id": "1ebe4ebc",
   "metadata": {
    "id": "tFbE6D0BmnjT",
    "papermill": {
     "duration": 0.023825,
     "end_time": "2023-09-08T12:03:09.048440",
     "exception": false,
     "start_time": "2023-09-08T12:03:09.024615",
     "status": "completed"
    },
    "tags": []
   },
   "source": [
    "Since, TF-DF cannot handle boolean columns, we will have to adjust the labels in column `Transported` to convert them into the integer format that TF-DF expects."
   ]
  },
  {
   "cell_type": "code",
   "execution_count": 12,
   "id": "5f9cf027",
   "metadata": {
    "execution": {
     "iopub.execute_input": "2023-09-08T12:03:09.096758Z",
     "iopub.status.busy": "2023-09-08T12:03:09.095917Z",
     "iopub.status.idle": "2023-09-08T12:03:09.102110Z",
     "shell.execute_reply": "2023-09-08T12:03:09.100807Z"
    },
    "id": "-T6a_RTxmnjT",
    "papermill": {
     "duration": 0.033222,
     "end_time": "2023-09-08T12:03:09.104649",
     "exception": false,
     "start_time": "2023-09-08T12:03:09.071427",
     "status": "completed"
    },
    "tags": []
   },
   "outputs": [],
   "source": [
    "label = \"Transported\"\n",
    "dataset_df[label] = dataset_df[label].astype(int)"
   ]
  },
  {
   "cell_type": "markdown",
   "id": "cd5980fb",
   "metadata": {
    "id": "F6-GATuzmnjU",
    "papermill": {
     "duration": 0.023231,
     "end_time": "2023-09-08T12:03:09.151446",
     "exception": false,
     "start_time": "2023-09-08T12:03:09.128215",
     "status": "completed"
    },
    "tags": []
   },
   "source": [
    "We will also convert the boolean fields `CryoSleep` and `VIP` to int."
   ]
  },
  {
   "cell_type": "code",
   "execution_count": 13,
   "id": "44a9f226",
   "metadata": {
    "execution": {
     "iopub.execute_input": "2023-09-08T12:03:09.200379Z",
     "iopub.status.busy": "2023-09-08T12:03:09.199605Z",
     "iopub.status.idle": "2023-09-08T12:03:09.209163Z",
     "shell.execute_reply": "2023-09-08T12:03:09.207901Z"
    },
    "id": "Wq6PbMnnmnjU",
    "papermill": {
     "duration": 0.037673,
     "end_time": "2023-09-08T12:03:09.212278",
     "exception": false,
     "start_time": "2023-09-08T12:03:09.174605",
     "status": "completed"
    },
    "tags": []
   },
   "outputs": [],
   "source": [
    "dataset_df['VIP'] = dataset_df['VIP'].astype(int)\n",
    "dataset_df['CryoSleep'] = dataset_df['CryoSleep'].astype(int)"
   ]
  },
  {
   "cell_type": "markdown",
   "id": "89e94210",
   "metadata": {
    "id": "enjp51h_mnjV",
    "papermill": {
     "duration": 0.024676,
     "end_time": "2023-09-08T12:03:09.261122",
     "exception": false,
     "start_time": "2023-09-08T12:03:09.236446",
     "status": "completed"
    },
    "tags": []
   },
   "source": [
    "The value of column `Cabin` is a string with the format `Deck/Cabin_num/Side`. Here we will split the `Cabin` column and create 3 new columns `Deck`, `Cabin_num` and `Side`, since it will be easier to train the model on those individual data.\n",
    "\n",
    "Run the following command to split the column `Cabin` into columns `Deck`, `Cabin_num` and `Side`"
   ]
  },
  {
   "cell_type": "code",
   "execution_count": 14,
   "id": "bf11c675",
   "metadata": {
    "execution": {
     "iopub.execute_input": "2023-09-08T12:03:09.308573Z",
     "iopub.status.busy": "2023-09-08T12:03:09.308105Z",
     "iopub.status.idle": "2023-09-08T12:03:09.337570Z",
     "shell.execute_reply": "2023-09-08T12:03:09.336091Z"
    },
    "id": "JeAuUvb_mnjV",
    "papermill": {
     "duration": 0.056491,
     "end_time": "2023-09-08T12:03:09.340331",
     "exception": false,
     "start_time": "2023-09-08T12:03:09.283840",
     "status": "completed"
    },
    "tags": []
   },
   "outputs": [],
   "source": [
    "dataset_df[[\"Deck\", \"Cabin_num\", \"Side\"]] = dataset_df[\"Cabin\"].str.split(\"/\", expand=True)"
   ]
  },
  {
   "cell_type": "markdown",
   "id": "97de805e",
   "metadata": {
    "id": "vNYEd1AkmnjV",
    "papermill": {
     "duration": 0.022497,
     "end_time": "2023-09-08T12:03:09.386220",
     "exception": false,
     "start_time": "2023-09-08T12:03:09.363723",
     "status": "completed"
    },
    "tags": []
   },
   "source": [
    "Remove original `Cabin` column from the dataset since it's not needed anymore."
   ]
  },
  {
   "cell_type": "code",
   "execution_count": 15,
   "id": "faabb136",
   "metadata": {
    "execution": {
     "iopub.execute_input": "2023-09-08T12:03:09.434469Z",
     "iopub.status.busy": "2023-09-08T12:03:09.433633Z",
     "iopub.status.idle": "2023-09-08T12:03:09.442135Z",
     "shell.execute_reply": "2023-09-08T12:03:09.441161Z"
    },
    "id": "dOcny3s4mnjV",
    "papermill": {
     "duration": 0.035989,
     "end_time": "2023-09-08T12:03:09.445039",
     "exception": false,
     "start_time": "2023-09-08T12:03:09.409050",
     "status": "completed"
    },
    "tags": []
   },
   "outputs": [],
   "source": [
    "try:\n",
    "    dataset_df = dataset_df.drop('Cabin', axis=1)\n",
    "except KeyError:\n",
    "    print(\"Field does not exist\")"
   ]
  },
  {
   "cell_type": "markdown",
   "id": "f2400c7d",
   "metadata": {
    "id": "Y7byxj5FmnjW",
    "papermill": {
     "duration": 0.022526,
     "end_time": "2023-09-08T12:03:09.490926",
     "exception": false,
     "start_time": "2023-09-08T12:03:09.468400",
     "status": "completed"
    },
    "tags": []
   },
   "source": [
    "Let us display the first 5 examples from the prepared dataset."
   ]
  },
  {
   "cell_type": "code",
   "execution_count": 16,
   "id": "450101ed",
   "metadata": {
    "execution": {
     "iopub.execute_input": "2023-09-08T12:03:09.538627Z",
     "iopub.status.busy": "2023-09-08T12:03:09.537931Z",
     "iopub.status.idle": "2023-09-08T12:03:09.562066Z",
     "shell.execute_reply": "2023-09-08T12:03:09.560345Z"
    },
    "id": "g0U1OKAYmnjW",
    "papermill": {
     "duration": 0.051486,
     "end_time": "2023-09-08T12:03:09.565209",
     "exception": false,
     "start_time": "2023-09-08T12:03:09.513723",
     "status": "completed"
    },
    "tags": []
   },
   "outputs": [
    {
     "data": {
      "text/html": [
       "<div>\n",
       "<style scoped>\n",
       "    .dataframe tbody tr th:only-of-type {\n",
       "        vertical-align: middle;\n",
       "    }\n",
       "\n",
       "    .dataframe tbody tr th {\n",
       "        vertical-align: top;\n",
       "    }\n",
       "\n",
       "    .dataframe thead th {\n",
       "        text-align: right;\n",
       "    }\n",
       "</style>\n",
       "<table border=\"1\" class=\"dataframe\">\n",
       "  <thead>\n",
       "    <tr style=\"text-align: right;\">\n",
       "      <th></th>\n",
       "      <th>HomePlanet</th>\n",
       "      <th>CryoSleep</th>\n",
       "      <th>Destination</th>\n",
       "      <th>Age</th>\n",
       "      <th>VIP</th>\n",
       "      <th>RoomService</th>\n",
       "      <th>FoodCourt</th>\n",
       "      <th>ShoppingMall</th>\n",
       "      <th>Spa</th>\n",
       "      <th>VRDeck</th>\n",
       "      <th>Transported</th>\n",
       "      <th>Deck</th>\n",
       "      <th>Cabin_num</th>\n",
       "      <th>Side</th>\n",
       "    </tr>\n",
       "  </thead>\n",
       "  <tbody>\n",
       "    <tr>\n",
       "      <th>0</th>\n",
       "      <td>Europa</td>\n",
       "      <td>0</td>\n",
       "      <td>TRAPPIST-1e</td>\n",
       "      <td>39.0</td>\n",
       "      <td>0</td>\n",
       "      <td>0.0</td>\n",
       "      <td>0.0</td>\n",
       "      <td>0.0</td>\n",
       "      <td>0.0</td>\n",
       "      <td>0.0</td>\n",
       "      <td>0</td>\n",
       "      <td>B</td>\n",
       "      <td>0</td>\n",
       "      <td>P</td>\n",
       "    </tr>\n",
       "    <tr>\n",
       "      <th>1</th>\n",
       "      <td>Earth</td>\n",
       "      <td>0</td>\n",
       "      <td>TRAPPIST-1e</td>\n",
       "      <td>24.0</td>\n",
       "      <td>0</td>\n",
       "      <td>109.0</td>\n",
       "      <td>9.0</td>\n",
       "      <td>25.0</td>\n",
       "      <td>549.0</td>\n",
       "      <td>44.0</td>\n",
       "      <td>1</td>\n",
       "      <td>F</td>\n",
       "      <td>0</td>\n",
       "      <td>S</td>\n",
       "    </tr>\n",
       "    <tr>\n",
       "      <th>2</th>\n",
       "      <td>Europa</td>\n",
       "      <td>0</td>\n",
       "      <td>TRAPPIST-1e</td>\n",
       "      <td>58.0</td>\n",
       "      <td>1</td>\n",
       "      <td>43.0</td>\n",
       "      <td>3576.0</td>\n",
       "      <td>0.0</td>\n",
       "      <td>6715.0</td>\n",
       "      <td>49.0</td>\n",
       "      <td>0</td>\n",
       "      <td>A</td>\n",
       "      <td>0</td>\n",
       "      <td>S</td>\n",
       "    </tr>\n",
       "    <tr>\n",
       "      <th>3</th>\n",
       "      <td>Europa</td>\n",
       "      <td>0</td>\n",
       "      <td>TRAPPIST-1e</td>\n",
       "      <td>33.0</td>\n",
       "      <td>0</td>\n",
       "      <td>0.0</td>\n",
       "      <td>1283.0</td>\n",
       "      <td>371.0</td>\n",
       "      <td>3329.0</td>\n",
       "      <td>193.0</td>\n",
       "      <td>0</td>\n",
       "      <td>A</td>\n",
       "      <td>0</td>\n",
       "      <td>S</td>\n",
       "    </tr>\n",
       "    <tr>\n",
       "      <th>4</th>\n",
       "      <td>Earth</td>\n",
       "      <td>0</td>\n",
       "      <td>TRAPPIST-1e</td>\n",
       "      <td>16.0</td>\n",
       "      <td>0</td>\n",
       "      <td>303.0</td>\n",
       "      <td>70.0</td>\n",
       "      <td>151.0</td>\n",
       "      <td>565.0</td>\n",
       "      <td>2.0</td>\n",
       "      <td>1</td>\n",
       "      <td>F</td>\n",
       "      <td>1</td>\n",
       "      <td>S</td>\n",
       "    </tr>\n",
       "  </tbody>\n",
       "</table>\n",
       "</div>"
      ],
      "text/plain": [
       "  HomePlanet  CryoSleep  Destination   Age  VIP  RoomService  FoodCourt  \\\n",
       "0     Europa          0  TRAPPIST-1e  39.0    0          0.0        0.0   \n",
       "1      Earth          0  TRAPPIST-1e  24.0    0        109.0        9.0   \n",
       "2     Europa          0  TRAPPIST-1e  58.0    1         43.0     3576.0   \n",
       "3     Europa          0  TRAPPIST-1e  33.0    0          0.0     1283.0   \n",
       "4      Earth          0  TRAPPIST-1e  16.0    0        303.0       70.0   \n",
       "\n",
       "   ShoppingMall     Spa  VRDeck  Transported Deck Cabin_num Side  \n",
       "0           0.0     0.0     0.0            0    B         0    P  \n",
       "1          25.0   549.0    44.0            1    F         0    S  \n",
       "2           0.0  6715.0    49.0            0    A         0    S  \n",
       "3         371.0  3329.0   193.0            0    A         0    S  \n",
       "4         151.0   565.0     2.0            1    F         1    S  "
      ]
     },
     "execution_count": 16,
     "metadata": {},
     "output_type": "execute_result"
    }
   ],
   "source": [
    "dataset_df.head(5)"
   ]
  },
  {
   "cell_type": "markdown",
   "id": "2eafdb78",
   "metadata": {
    "id": "l6EmJsSfmnjW",
    "papermill": {
     "duration": 0.023577,
     "end_time": "2023-09-08T12:03:09.611845",
     "exception": false,
     "start_time": "2023-09-08T12:03:09.588268",
     "status": "completed"
    },
    "tags": []
   },
   "source": [
    "Now let us split the dataset into training and testing datasets:"
   ]
  },
  {
   "cell_type": "code",
   "execution_count": 17,
   "id": "94113aac",
   "metadata": {
    "execution": {
     "iopub.execute_input": "2023-09-08T12:03:09.660139Z",
     "iopub.status.busy": "2023-09-08T12:03:09.659445Z",
     "iopub.status.idle": "2023-09-08T12:03:09.670798Z",
     "shell.execute_reply": "2023-09-08T12:03:09.669372Z"
    },
    "id": "_drMgwAAmnjX",
    "papermill": {
     "duration": 0.038601,
     "end_time": "2023-09-08T12:03:09.673398",
     "exception": false,
     "start_time": "2023-09-08T12:03:09.634797",
     "status": "completed"
    },
    "tags": []
   },
   "outputs": [
    {
     "name": "stdout",
     "output_type": "stream",
     "text": [
      "6978 examples in training, 1715 examples in testing.\n"
     ]
    }
   ],
   "source": [
    "def split_dataset(dataset, test_ratio=0.20):\n",
    "  test_indices = np.random.rand(len(dataset)) < test_ratio\n",
    "  return dataset[~test_indices], dataset[test_indices]\n",
    "\n",
    "train_ds_pd, valid_ds_pd = split_dataset(dataset_df)\n",
    "print(\"{} examples in training, {} examples in testing.\".format(\n",
    "    len(train_ds_pd), len(valid_ds_pd)))"
   ]
  },
  {
   "cell_type": "markdown",
   "id": "fa7a4e02",
   "metadata": {
    "id": "_gg4nfB1mnjX",
    "papermill": {
     "duration": 0.0227,
     "end_time": "2023-09-08T12:03:09.719021",
     "exception": false,
     "start_time": "2023-09-08T12:03:09.696321",
     "status": "completed"
    },
    "tags": []
   },
   "source": [
    "There's one more step required before we can train the model. We need to convert the datatset from Pandas format (`pd.DataFrame`) into TensorFlow Datasets format (`tf.data.Dataset`).\n",
    "\n",
    "[TensorFlow Datasets](https://www.tensorflow.org/datasets/overview) is a high performance data loading library which is helpful when training neural networks with accelerators like GPUs and TPUs."
   ]
  },
  {
   "cell_type": "code",
   "execution_count": 18,
   "id": "3c5a0f38",
   "metadata": {
    "execution": {
     "iopub.execute_input": "2023-09-08T12:03:09.768106Z",
     "iopub.status.busy": "2023-09-08T12:03:09.767161Z",
     "iopub.status.idle": "2023-09-08T12:03:09.964867Z",
     "shell.execute_reply": "2023-09-08T12:03:09.963470Z"
    },
    "id": "LZADOplXmnjX",
    "papermill": {
     "duration": 0.226015,
     "end_time": "2023-09-08T12:03:09.968061",
     "exception": false,
     "start_time": "2023-09-08T12:03:09.742046",
     "status": "completed"
    },
    "tags": []
   },
   "outputs": [],
   "source": [
    "train_ds = tfdf.keras.pd_dataframe_to_tf_dataset(train_ds_pd, label=label)\n",
    "valid_ds = tfdf.keras.pd_dataframe_to_tf_dataset(valid_ds_pd, label=label)"
   ]
  },
  {
   "cell_type": "markdown",
   "id": "b3743df5",
   "metadata": {
    "id": "0-xUiOTwmnjY",
    "papermill": {
     "duration": 0.022648,
     "end_time": "2023-09-08T12:03:10.013808",
     "exception": false,
     "start_time": "2023-09-08T12:03:09.991160",
     "status": "completed"
    },
    "tags": []
   },
   "source": [
    "# Select a Model\n",
    "\n",
    "There are several tree-based models for you to choose from.\n",
    "\n",
    "* RandomForestModel\n",
    "* GradientBoostedTreesModel\n",
    "* CartModel\n",
    "* DistributedGradientBoostedTreesModel\n",
    "\n",
    "To start, we'll work with a Random Forest. This is the most well-known of the Decision Forest training algorithms.\n",
    "\n",
    "A Random Forest is a collection of decision trees, each trained independently on a random subset of the training dataset (sampled with replacement). The algorithm is unique in that it is robust to overfitting, and easy to use.\n",
    "\n",
    "We can list the all the available models in TensorFlow Decision Forests using the following code:"
   ]
  },
  {
   "cell_type": "code",
   "execution_count": 19,
   "id": "a74ac183",
   "metadata": {
    "execution": {
     "iopub.execute_input": "2023-09-08T12:03:10.062242Z",
     "iopub.status.busy": "2023-09-08T12:03:10.061500Z",
     "iopub.status.idle": "2023-09-08T12:03:10.068220Z",
     "shell.execute_reply": "2023-09-08T12:03:10.067084Z"
    },
    "id": "PdQw1cWbmnjY",
    "papermill": {
     "duration": 0.034031,
     "end_time": "2023-09-08T12:03:10.070787",
     "exception": false,
     "start_time": "2023-09-08T12:03:10.036756",
     "status": "completed"
    },
    "tags": []
   },
   "outputs": [
    {
     "data": {
      "text/plain": [
       "[tensorflow_decision_forests.keras.RandomForestModel,\n",
       " tensorflow_decision_forests.keras.GradientBoostedTreesModel,\n",
       " tensorflow_decision_forests.keras.CartModel,\n",
       " tensorflow_decision_forests.keras.DistributedGradientBoostedTreesModel]"
      ]
     },
     "execution_count": 19,
     "metadata": {},
     "output_type": "execute_result"
    }
   ],
   "source": [
    "tfdf.keras.get_all_models()"
   ]
  },
  {
   "cell_type": "markdown",
   "id": "1b7603c1",
   "metadata": {
    "id": "sy81fpfxmnjY",
    "papermill": {
     "duration": 0.022817,
     "end_time": "2023-09-08T12:03:10.116775",
     "exception": false,
     "start_time": "2023-09-08T12:03:10.093958",
     "status": "completed"
    },
    "tags": []
   },
   "source": [
    "# Configure the model\n",
    "\n",
    "TensorFlow Decision Forests provides good defaults for you (e.g. the top ranking hyperparameters on our benchmarks, slightly modified to run in reasonable time). If you would like to configure the learning algorithm, you will find many options you can explore to get the highest possible accuracy.\n",
    "\n",
    "You can select a template and/or set parameters as follows:\n",
    "\n",
    "```rf = tfdf.keras.RandomForestModel(hyperparameter_template=\"benchmark_rank1\")```\n",
    "\n",
    "Read more [here](https://www.tensorflow.org/decision_forests/api_docs/python/tfdf/keras/RandomForestModel)."
   ]
  },
  {
   "cell_type": "markdown",
   "id": "70a9779c",
   "metadata": {
    "id": "AfJMCA6lmnjZ",
    "papermill": {
     "duration": 0.0229,
     "end_time": "2023-09-08T12:03:10.162735",
     "exception": false,
     "start_time": "2023-09-08T12:03:10.139835",
     "status": "completed"
    },
    "tags": []
   },
   "source": [
    "# Create a Random Forest\n",
    "\n",
    "Today, we will use the defaults to create the Random Forest Model. By default the model is set to train for a classification task."
   ]
  },
  {
   "cell_type": "markdown",
   "id": "adf76d8e",
   "metadata": {
    "papermill": {
     "duration": 0.022769,
     "end_time": "2023-09-08T12:03:10.208519",
     "exception": false,
     "start_time": "2023-09-08T12:03:10.185750",
     "status": "completed"
    },
    "tags": []
   },
   "source": [
    "rf = tfdf.keras.RandomForestModel(hyperparameter_template=\"benchmark_rank1\")"
   ]
  },
  {
   "cell_type": "code",
   "execution_count": 20,
   "id": "c085e1a3",
   "metadata": {
    "execution": {
     "iopub.execute_input": "2023-09-08T12:03:10.259651Z",
     "iopub.status.busy": "2023-09-08T12:03:10.258820Z",
     "iopub.status.idle": "2023-09-08T12:03:10.321051Z",
     "shell.execute_reply": "2023-09-08T12:03:10.319812Z"
    },
    "id": "j7-gFVDNmnjZ",
    "papermill": {
     "duration": 0.091302,
     "end_time": "2023-09-08T12:03:10.324230",
     "exception": false,
     "start_time": "2023-09-08T12:03:10.232928",
     "status": "completed"
    },
    "tags": []
   },
   "outputs": [
    {
     "name": "stdout",
     "output_type": "stream",
     "text": [
      "Use /tmp/tmpvcdcyu5j as temporary training directory\n"
     ]
    }
   ],
   "source": [
    "rf = tfdf.keras.RandomForestModel()\n",
    "rf.compile(metrics=[\"accuracy\"]) # Optional, you can use this to include a list of eval metrics"
   ]
  },
  {
   "cell_type": "markdown",
   "id": "72410d9d",
   "metadata": {
    "id": "wEQXtv4MmnjZ",
    "papermill": {
     "duration": 0.023087,
     "end_time": "2023-09-08T12:03:10.370927",
     "exception": false,
     "start_time": "2023-09-08T12:03:10.347840",
     "status": "completed"
    },
    "tags": []
   },
   "source": [
    "# Train the model\n",
    "\n",
    "We will train the model using a one-liner.\n",
    "\n",
    "Note: you may see a warning about Autograph. You can safely ignore this, it will be fixed in the next release."
   ]
  },
  {
   "cell_type": "code",
   "execution_count": 21,
   "id": "5970d350",
   "metadata": {
    "execution": {
     "iopub.execute_input": "2023-09-08T12:03:10.419735Z",
     "iopub.status.busy": "2023-09-08T12:03:10.419236Z",
     "iopub.status.idle": "2023-09-08T12:04:17.903533Z",
     "shell.execute_reply": "2023-09-08T12:04:17.902167Z"
    },
    "id": "QcL5KRyLmnja",
    "papermill": {
     "duration": 67.512409,
     "end_time": "2023-09-08T12:04:17.906568",
     "exception": false,
     "start_time": "2023-09-08T12:03:10.394159",
     "status": "completed"
    },
    "tags": []
   },
   "outputs": [
    {
     "name": "stdout",
     "output_type": "stream",
     "text": [
      "Reading training dataset...\n",
      "Training dataset read in 0:00:07.951028. Found 6978 examples.\n",
      "Training model...\n"
     ]
    },
    {
     "name": "stderr",
     "output_type": "stream",
     "text": [
      "[INFO 2023-09-08T12:04:13.260976576+00:00 kernel.cc:1214] Loading model from path /tmp/tmpvcdcyu5j/model/ with prefix 93b0e3960c144e34\n"
     ]
    },
    {
     "name": "stdout",
     "output_type": "stream",
     "text": [
      "Model trained in 0:00:56.128859\n",
      "Compiling model...\n"
     ]
    },
    {
     "name": "stderr",
     "output_type": "stream",
     "text": [
      "[INFO 2023-09-08T12:04:14.407205735+00:00 decision_forest.cc:661] Model loaded with 300 root(s), 232986 node(s), and 13 input feature(s).\n",
      "[INFO 2023-09-08T12:04:14.407264849+00:00 abstract_model.cc:1311] Engine \"RandomForestGeneric\" built\n",
      "[INFO 2023-09-08T12:04:14.407307117+00:00 kernel.cc:1046] Use fast generic engine\n"
     ]
    },
    {
     "name": "stdout",
     "output_type": "stream",
     "text": [
      "WARNING: AutoGraph could not transform <function simple_ml_inference_op_with_handle at 0x7a3391393ef0> and will run it as-is.\n",
      "Please report this to the TensorFlow team. When filing the bug, set the verbosity to 10 (on Linux, `export AUTOGRAPH_VERBOSITY=10`) and attach the full output.\n",
      "Cause: could not get source code\n",
      "To silence this warning, decorate the function with @tf.autograph.experimental.do_not_convert\n",
      "Model compiled.\n"
     ]
    },
    {
     "data": {
      "text/plain": [
       "<keras.callbacks.History at 0x7a33833e0350>"
      ]
     },
     "execution_count": 21,
     "metadata": {},
     "output_type": "execute_result"
    }
   ],
   "source": [
    "rf.fit(x=train_ds)"
   ]
  },
  {
   "cell_type": "markdown",
   "id": "4dbd8d85",
   "metadata": {
    "id": "HQaPDLBjmnja",
    "papermill": {
     "duration": 0.024319,
     "end_time": "2023-09-08T12:04:17.956938",
     "exception": false,
     "start_time": "2023-09-08T12:04:17.932619",
     "status": "completed"
    },
    "tags": []
   },
   "source": [
    "# Visualize the model\n",
    "One benefit of tree-based models is that we can easily visualize them. The default number of trees used in the Random Forests is 300. We can select a tree to display below."
   ]
  },
  {
   "cell_type": "code",
   "execution_count": 22,
   "id": "a16fdb87",
   "metadata": {
    "execution": {
     "iopub.execute_input": "2023-09-08T12:04:18.008995Z",
     "iopub.status.busy": "2023-09-08T12:04:18.007480Z",
     "iopub.status.idle": "2023-09-08T12:04:18.841938Z",
     "shell.execute_reply": "2023-09-08T12:04:18.840446Z"
    },
    "id": "hSao4Qstmnja",
    "papermill": {
     "duration": 0.863576,
     "end_time": "2023-09-08T12:04:18.845039",
     "exception": false,
     "start_time": "2023-09-08T12:04:17.981463",
     "status": "completed"
    },
    "tags": []
   },
   "outputs": [
    {
     "data": {
      "text/html": [
       "\n",
       "<script src=\"https://d3js.org/d3.v6.min.js\"></script>\n",
       "<div id=\"tree_plot_e1bc9afff15f437eb827da681a3e99f7\"></div>\n",
       "<script>\n",
       "/*\n",
       " * Copyright 2021 Google LLC.\n",
       " * Licensed under the Apache License, Version 2.0 (the \"License\");\n",
       " * you may not use this file except in compliance with the License.\n",
       " * You may obtain a copy of the License at\n",
       " *\n",
       " *     https://www.apache.org/licenses/LICENSE-2.0\n",
       " *\n",
       " * Unless required by applicable law or agreed to in writing, software\n",
       " * distributed under the License is distributed on an \"AS IS\" BASIS,\n",
       " * WITHOUT WARRANTIES OR CONDITIONS OF ANY KIND, either express or implied.\n",
       " * See the License for the specific language governing permissions and\n",
       " * limitations under the License.\n",
       " */\n",
       "\n",
       "/**\n",
       " *  Plotting of decision trees generated by TF-DF.\n",
       " *\n",
       " *  A tree is a recursive structure of node objects.\n",
       " *  A node contains one or more of the following components:\n",
       " *\n",
       " *    - A value: Representing the output of the node. If the node is not a leaf,\n",
       " *      the value is only present for analysis i.e. it is not used for\n",
       " *      predictions.\n",
       " *\n",
       " *    - A condition : For non-leaf nodes, the condition (also known as split)\n",
       " *      defines a binary test to branch to the positive or negative child.\n",
       " *\n",
       " *    - An explanation: Generally a plot showing the relation between the label\n",
       " *      and the condition to give insights about the effect of the condition.\n",
       " *\n",
       " *    - Two children : For non-leaf nodes, the children nodes. The first\n",
       " *      children (i.e. \"node.children[0]\") is the negative children (drawn in\n",
       " *      red). The second children is the positive one (drawn in green).\n",
       " *\n",
       " */\n",
       "\n",
       "/**\n",
       " * Plots a single decision tree into a DOM element.\n",
       " * @param {!options} options Dictionary of configurations.\n",
       " * @param {!tree} raw_tree Recursive tree structure.\n",
       " * @param {string} canvas_id Id of the output dom element.\n",
       " */\n",
       "function display_tree(options, raw_tree, canvas_id) {\n",
       "  console.log(options);\n",
       "\n",
       "  // Determine the node placement.\n",
       "  const tree_struct = d3.tree().nodeSize(\n",
       "      [options.node_y_offset, options.node_x_offset])(d3.hierarchy(raw_tree));\n",
       "\n",
       "  // Boundaries of the node placement.\n",
       "  let x_min = Infinity;\n",
       "  let x_max = -x_min;\n",
       "  let y_min = Infinity;\n",
       "  let y_max = -x_min;\n",
       "\n",
       "  tree_struct.each(d => {\n",
       "    if (d.x > x_max) x_max = d.x;\n",
       "    if (d.x < x_min) x_min = d.x;\n",
       "    if (d.y > y_max) y_max = d.y;\n",
       "    if (d.y < y_min) y_min = d.y;\n",
       "  });\n",
       "\n",
       "  // Size of the plot.\n",
       "  const width = y_max - y_min + options.node_x_size + options.margin * 2;\n",
       "  const height = x_max - x_min + options.node_y_size + options.margin * 2 +\n",
       "      options.node_y_offset - options.node_y_size;\n",
       "\n",
       "  const plot = d3.select(canvas_id);\n",
       "\n",
       "  // Tool tip\n",
       "  options.tooltip = plot.append('div')\n",
       "                        .attr('width', 100)\n",
       "                        .attr('height', 100)\n",
       "                        .style('padding', '4px')\n",
       "                        .style('background', '#fff')\n",
       "                        .style('box-shadow', '4px 4px 0px rgba(0,0,0,0.1)')\n",
       "                        .style('border', '1px solid black')\n",
       "                        .style('font-family', 'sans-serif')\n",
       "                        .style('font-size', options.font_size)\n",
       "                        .style('position', 'absolute')\n",
       "                        .style('z-index', '10')\n",
       "                        .attr('pointer-events', 'none')\n",
       "                        .style('display', 'none');\n",
       "\n",
       "  // Create canvas\n",
       "  const svg = plot.append('svg').attr('width', width).attr('height', height);\n",
       "  const graph =\n",
       "      svg.style('overflow', 'visible')\n",
       "          .append('g')\n",
       "          .attr('font-family', 'sans-serif')\n",
       "          .attr('font-size', options.font_size)\n",
       "          .attr(\n",
       "              'transform',\n",
       "              () => `translate(${options.margin},${\n",
       "                  - x_min + options.node_y_offset / 2 + options.margin})`);\n",
       "\n",
       "  // Plot bounding box.\n",
       "  if (options.show_plot_bounding_box) {\n",
       "    svg.append('rect')\n",
       "        .attr('width', width)\n",
       "        .attr('height', height)\n",
       "        .attr('fill', 'none')\n",
       "        .attr('stroke-width', 1.0)\n",
       "        .attr('stroke', 'black');\n",
       "  }\n",
       "\n",
       "  // Draw the edges.\n",
       "  display_edges(options, graph, tree_struct);\n",
       "\n",
       "  // Draw the nodes.\n",
       "  display_nodes(options, graph, tree_struct);\n",
       "}\n",
       "\n",
       "/**\n",
       " * Draw the nodes of the tree.\n",
       " * @param {!options} options Dictionary of configurations.\n",
       " * @param {!graph} graph D3 search handle containing the graph.\n",
       " * @param {!tree_struct} tree_struct Structure of the tree (node placement,\n",
       " *     data, etc.).\n",
       " */\n",
       "function display_nodes(options, graph, tree_struct) {\n",
       "  const nodes = graph.append('g')\n",
       "                    .selectAll('g')\n",
       "                    .data(tree_struct.descendants())\n",
       "                    .join('g')\n",
       "                    .attr('transform', d => `translate(${d.y},${d.x})`);\n",
       "\n",
       "  nodes.append('rect')\n",
       "      .attr('x', 0.5)\n",
       "      .attr('y', 0.5)\n",
       "      .attr('width', options.node_x_size)\n",
       "      .attr('height', options.node_y_size)\n",
       "      .attr('stroke', 'lightgrey')\n",
       "      .attr('stroke-width', 1)\n",
       "      .attr('fill', 'white')\n",
       "      .attr('y', -options.node_y_size / 2);\n",
       "\n",
       "  // Brackets on the right of condition nodes without children.\n",
       "  non_leaf_node_without_children =\n",
       "      nodes.filter(node => node.data.condition != null && node.children == null)\n",
       "          .append('g')\n",
       "          .attr('transform', `translate(${options.node_x_size},0)`);\n",
       "\n",
       "  non_leaf_node_without_children.append('path')\n",
       "      .attr('d', 'M0,0 C 10,0 0,10 10,10')\n",
       "      .attr('fill', 'none')\n",
       "      .attr('stroke-width', 1.0)\n",
       "      .attr('stroke', '#F00');\n",
       "\n",
       "  non_leaf_node_without_children.append('path')\n",
       "      .attr('d', 'M0,0 C 10,0 0,-10 10,-10')\n",
       "      .attr('fill', 'none')\n",
       "      .attr('stroke-width', 1.0)\n",
       "      .attr('stroke', '#0F0');\n",
       "\n",
       "  const node_content = nodes.append('g').attr(\n",
       "      'transform',\n",
       "      `translate(0,${options.node_padding - options.node_y_size / 2})`);\n",
       "\n",
       "  node_content.append(node => create_node_element(options, node));\n",
       "}\n",
       "\n",
       "/**\n",
       " * Creates the D3 content for a single node.\n",
       " * @param {!options} options Dictionary of configurations.\n",
       " * @param {!node} node Node to draw.\n",
       " * @return {!d3} D3 content.\n",
       " */\n",
       "function create_node_element(options, node) {\n",
       "  // Output accumulator.\n",
       "  let output = {\n",
       "    // Content to draw.\n",
       "    content: d3.create('svg:g'),\n",
       "    // Vertical offset to the next element to draw.\n",
       "    vertical_offset: 0\n",
       "  };\n",
       "\n",
       "  // Conditions.\n",
       "  if (node.data.condition != null) {\n",
       "    display_condition(options, node.data.condition, output);\n",
       "  }\n",
       "\n",
       "  // Values.\n",
       "  if (node.data.value != null) {\n",
       "    display_value(options, node.data.value, output);\n",
       "  }\n",
       "\n",
       "  // Explanations.\n",
       "  if (node.data.explanation != null) {\n",
       "    display_explanation(options, node.data.explanation, output);\n",
       "  }\n",
       "\n",
       "  return output.content.node();\n",
       "}\n",
       "\n",
       "\n",
       "/**\n",
       " * Adds a single line of text inside of a node.\n",
       " * @param {!options} options Dictionary of configurations.\n",
       " * @param {string} text Text to display.\n",
       " * @param {!output} output Output display accumulator.\n",
       " */\n",
       "function display_node_text(options, text, output) {\n",
       "  output.content.append('text')\n",
       "      .attr('x', options.node_padding)\n",
       "      .attr('y', output.vertical_offset)\n",
       "      .attr('alignment-baseline', 'hanging')\n",
       "      .text(text);\n",
       "  output.vertical_offset += 10;\n",
       "}\n",
       "\n",
       "/**\n",
       " * Adds a single line of text inside of a node with a tooltip.\n",
       " * @param {!options} options Dictionary of configurations.\n",
       " * @param {string} text Text to display.\n",
       " * @param {string} tooltip Text in the Tooltip.\n",
       " * @param {!output} output Output display accumulator.\n",
       " */\n",
       "function display_node_text_with_tooltip(options, text, tooltip, output) {\n",
       "  const item = output.content.append('text')\n",
       "                   .attr('x', options.node_padding)\n",
       "                   .attr('alignment-baseline', 'hanging')\n",
       "                   .text(text);\n",
       "\n",
       "  add_tooltip(options, item, () => tooltip);\n",
       "  output.vertical_offset += 10;\n",
       "}\n",
       "\n",
       "/**\n",
       " * Adds a tooltip to a dom element.\n",
       " * @param {!options} options Dictionary of configurations.\n",
       " * @param {!dom} target Dom element to equip with a tooltip.\n",
       " * @param {!func} get_content Generates the html content of the tooltip.\n",
       " */\n",
       "function add_tooltip(options, target, get_content) {\n",
       "  function show(d) {\n",
       "    options.tooltip.style('display', 'block');\n",
       "    options.tooltip.html(get_content());\n",
       "  }\n",
       "\n",
       "  function hide(d) {\n",
       "    options.tooltip.style('display', 'none');\n",
       "  }\n",
       "\n",
       "  function move(d) {\n",
       "    options.tooltip.style('display', 'block');\n",
       "    options.tooltip.style('left', (d.pageX + 5) + 'px');\n",
       "    options.tooltip.style('top', d.pageY + 'px');\n",
       "  }\n",
       "\n",
       "  target.on('mouseover', show);\n",
       "  target.on('mouseout', hide);\n",
       "  target.on('mousemove', move);\n",
       "}\n",
       "\n",
       "/**\n",
       " * Adds a condition inside of a node.\n",
       " * @param {!options} options Dictionary of configurations.\n",
       " * @param {!condition} condition Condition to display.\n",
       " * @param {!output} output Output display accumulator.\n",
       " */\n",
       "function display_condition(options, condition, output) {\n",
       "  threshold_format = d3.format('r');\n",
       "\n",
       "  if (condition.type === 'IS_MISSING') {\n",
       "    display_node_text(options, `${condition.attribute} is missing`, output);\n",
       "    return;\n",
       "  }\n",
       "\n",
       "  if (condition.type === 'IS_TRUE') {\n",
       "    display_node_text(options, `${condition.attribute} is true`, output);\n",
       "    return;\n",
       "  }\n",
       "\n",
       "  if (condition.type === 'NUMERICAL_IS_HIGHER_THAN') {\n",
       "    format = d3.format('r');\n",
       "    display_node_text(\n",
       "        options,\n",
       "        `${condition.attribute} >= ${threshold_format(condition.threshold)}`,\n",
       "        output);\n",
       "    return;\n",
       "  }\n",
       "\n",
       "  if (condition.type === 'CATEGORICAL_IS_IN') {\n",
       "    display_node_text_with_tooltip(\n",
       "        options, `${condition.attribute} in [...]`,\n",
       "        `${condition.attribute} in [${condition.mask}]`, output);\n",
       "    return;\n",
       "  }\n",
       "\n",
       "  if (condition.type === 'CATEGORICAL_SET_CONTAINS') {\n",
       "    display_node_text_with_tooltip(\n",
       "        options, `${condition.attribute} intersect [...]`,\n",
       "        `${condition.attribute} intersect [${condition.mask}]`, output);\n",
       "    return;\n",
       "  }\n",
       "\n",
       "  if (condition.type === 'NUMERICAL_SPARSE_OBLIQUE') {\n",
       "    display_node_text_with_tooltip(\n",
       "        options, `Sparse oblique split...`,\n",
       "        `[${condition.attributes}]*[${condition.weights}]>=${\n",
       "            threshold_format(condition.threshold)}`,\n",
       "        output);\n",
       "    return;\n",
       "  }\n",
       "\n",
       "  display_node_text(\n",
       "      options, `Non supported condition ${condition.type}`, output);\n",
       "}\n",
       "\n",
       "/**\n",
       " * Adds a value inside of a node.\n",
       " * @param {!options} options Dictionary of configurations.\n",
       " * @param {!value} value Value to display.\n",
       " * @param {!output} output Output display accumulator.\n",
       " */\n",
       "function display_value(options, value, output) {\n",
       "  if (value.type === 'PROBABILITY') {\n",
       "    const left_margin = 0;\n",
       "    const right_margin = 50;\n",
       "    const plot_width = options.node_x_size - options.node_padding * 2 -\n",
       "        left_margin - right_margin;\n",
       "\n",
       "    let cusum = Array.from(d3.cumsum(value.distribution));\n",
       "    cusum.unshift(0);\n",
       "    const distribution_plot = output.content.append('g').attr(\n",
       "        'transform', `translate(0,${output.vertical_offset + 0.5})`);\n",
       "\n",
       "    distribution_plot.selectAll('rect')\n",
       "        .data(value.distribution)\n",
       "        .join('rect')\n",
       "        .attr('height', 10)\n",
       "        .attr(\n",
       "            'x',\n",
       "            (d, i) =>\n",
       "                (cusum[i] * plot_width + left_margin + options.node_padding))\n",
       "        .attr('width', (d, i) => d * plot_width)\n",
       "        .style('fill', (d, i) => d3.schemeSet1[i]);\n",
       "\n",
       "    const num_examples =\n",
       "        output.content.append('g')\n",
       "            .attr('transform', `translate(0,${output.vertical_offset})`)\n",
       "            .append('text')\n",
       "            .attr('x', options.node_x_size - options.node_padding)\n",
       "            .attr('alignment-baseline', 'hanging')\n",
       "            .attr('text-anchor', 'end')\n",
       "            .text(`(${value.num_examples})`);\n",
       "\n",
       "    const distribution_details = d3.create('ul');\n",
       "    distribution_details.selectAll('li')\n",
       "        .data(value.distribution)\n",
       "        .join('li')\n",
       "        .append('span')\n",
       "        .text(\n",
       "            (d, i) =>\n",
       "                'class ' + i + ': ' + d3.format('.3%')(value.distribution[i]));\n",
       "\n",
       "    add_tooltip(options, distribution_plot, () => distribution_details.html());\n",
       "    add_tooltip(options, num_examples, () => 'Number of examples');\n",
       "\n",
       "    output.vertical_offset += 10;\n",
       "    return;\n",
       "  }\n",
       "\n",
       "  if (value.type === 'REGRESSION') {\n",
       "    display_node_text(\n",
       "        options,\n",
       "        'value: ' + d3.format('r')(value.value) + ` (` +\n",
       "            d3.format('.6')(value.num_examples) + `)`,\n",
       "        output);\n",
       "    return;\n",
       "  }\n",
       "\n",
       "  display_node_text(options, `Non supported value ${value.type}`, output);\n",
       "}\n",
       "\n",
       "/**\n",
       " * Adds an explanation inside of a node.\n",
       " * @param {!options} options Dictionary of configurations.\n",
       " * @param {!explanation} explanation Explanation to display.\n",
       " * @param {!output} output Output display accumulator.\n",
       " */\n",
       "function display_explanation(options, explanation, output) {\n",
       "  // Margin before the explanation.\n",
       "  output.vertical_offset += 10;\n",
       "\n",
       "  display_node_text(\n",
       "      options, `Non supported explanation ${explanation.type}`, output);\n",
       "}\n",
       "\n",
       "\n",
       "/**\n",
       " * Draw the edges of the tree.\n",
       " * @param {!options} options Dictionary of configurations.\n",
       " * @param {!graph} graph D3 search handle containing the graph.\n",
       " * @param {!tree_struct} tree_struct Structure of the tree (node placement,\n",
       " *     data, etc.).\n",
       " */\n",
       "function display_edges(options, graph, tree_struct) {\n",
       "  // Draw an edge between a parent and a child node with a bezier.\n",
       "  function draw_single_edge(d) {\n",
       "    return 'M' + (d.source.y + options.node_x_size) + ',' + d.source.x + ' C' +\n",
       "        (d.source.y + options.node_x_size + options.edge_rounding) + ',' +\n",
       "        d.source.x + ' ' + (d.target.y - options.edge_rounding) + ',' +\n",
       "        d.target.x + ' ' + d.target.y + ',' + d.target.x;\n",
       "  }\n",
       "\n",
       "  graph.append('g')\n",
       "      .attr('fill', 'none')\n",
       "      .attr('stroke-width', 1.2)\n",
       "      .selectAll('path')\n",
       "      .data(tree_struct.links())\n",
       "      .join('path')\n",
       "      .attr('d', draw_single_edge)\n",
       "      .attr(\n",
       "          'stroke', d => (d.target === d.source.children[0]) ? '#0F0' : '#F00');\n",
       "}\n",
       "\n",
       "display_tree({\"margin\": 10, \"node_x_size\": 160, \"node_y_size\": 28, \"node_x_offset\": 180, \"node_y_offset\": 33, \"font_size\": 10, \"edge_rounding\": 20, \"node_padding\": 2, \"show_plot_bounding_box\": false}, {\"value\": {\"type\": \"PROBABILITY\", \"distribution\": [0.4935511607910576, 0.5064488392089423], \"num_examples\": 6978.0}, \"condition\": {\"type\": \"NUMERICAL_IS_HIGHER_THAN\", \"attribute\": \"CryoSleep\", \"threshold\": 0.5}, \"children\": [{\"value\": {\"type\": \"PROBABILITY\", \"distribution\": [0.17413931144915934, 0.8258606885508407], \"num_examples\": 2498.0}, \"condition\": {\"type\": \"CATEGORICAL_IS_IN\", \"attribute\": \"Deck\", \"mask\": [\"F\", \"B\", \"C\", \"D\"]}, \"children\": [{\"value\": {\"type\": \"PROBABILITY\", \"distribution\": [0.012965964343598054, 0.9870340356564019], \"num_examples\": 1234.0}, \"condition\": {\"type\": \"CATEGORICAL_IS_IN\", \"attribute\": \"Cabin_num\", \"mask\": [\"82\", \"86\", \"19\", \"96\", \"65\", \"53\", \"42\", \"27\", \"18\", \"16\", \"144\", \"91\", \"247\", \"187\", \"9\", \"35\", \"260\", \"258\", \"25\", \"158\", \"142\", \"72\", \"50\", \"279\", \"227\", \"186\", \"150\", \"121\", \"118\", \"107\", \"78\", \"59\", \"47\", \"46\", \"24\", \"183\", \"166\", \"127\", \"120\", \"94\", \"89\", \"85\", \"67\", \"66\", \"63\", \"291\", \"29\", \"259\", \"190\", \"151\", \"140\", \"124\", \"123\", \"115\", \"105\", \"103\", \"74\", \"6\", \"38\", \"281\", \"233\", \"229\", \"219\", \"218\", \"213\", \"208\", \"175\", \"170\", \"163\", \"156\", \"145\", \"14\", \"101\", \"98\", \"7\", \"49\", \"48\", \"323\", \"319\", \"317\", \"300\", \"28\", \"272\", \"262\", \"26\", \"255\", \"242\", \"232\", \"221\", \"217\", \"200\", \"198\", \"196\", \"193\", \"184\", \"181\", \"161\", \"126\", \"122\", \"981\", \"90\", \"315\", \"306\", \"278\", \"277\", \"267\", \"265\", \"264\", \"254\", \"224\", \"210\", \"192\", \"154\", \"149\", \"148\", \"147\", \"113\", \"111\", \"109\", \"961\", \"84\", \"466\", \"326\", \"310\", \"301\", \"298\", \"290\", \"273\", \"248\", \"244\", \"220\", \"214\", \"110\", \"958\", \"937\", \"92\", \"87\", \"77\", \"500\", \"334\", \"307\", \"285\", \"261\", \"243\", \"236\", \"223\", \"180\", \"165\", \"1050\", \"903\", \"900\", \"862\", \"838\", \"821\", \"810\", \"691\", \"648\", \"592\", \"431\", \"429\", \"357\", \"303\", \"234\", \"204\", \"188\", \"1396\", \"1387\", \"1339\", \"1150\", \"1146\"]}, \"children\": [{\"value\": {\"type\": \"PROBABILITY\", \"distribution\": [0.0, 1.0], \"num_examples\": 541.0}}, {\"value\": {\"type\": \"PROBABILITY\", \"distribution\": [0.023088023088023088, 0.976911976911977], \"num_examples\": 693.0}, \"condition\": {\"type\": \"CATEGORICAL_IS_IN\", \"attribute\": \"Cabin_num\", \"mask\": [\"176\", \"56\", \"230\", \"133\", \"23\", \"68\", \"125\", \"83\", \"80\", \"246\", \"21\", \"20\", \"13\", \"99\", \"8\", \"206\", \"194\", \"152\", \"1\", \"283\", \"216\", \"195\", \"102\", \"61\", \"297\", \"222\", \"201\", \"191\", \"130\", \"245\", \"146\", \"134\", \"132\", \"324\", \"268\", \"249\", \"209\", \"205\", \"117\", \"93\", \"73\", \"329\", \"309\", \"284\", \"251\", \"1653\", \"630\", \"340\", \"33\", \"321\", \"293\", \"172\", \"162\", \"155\", \"975\", \"882\", \"709\", \"545\", \"530\", \"508\", \"423\", \"337\", \"318\", \"167\", \"160\", \"1118\"]}}]}, {\"value\": {\"type\": \"PROBABILITY\", \"distribution\": [0.3314873417721519, 0.6685126582278481], \"num_examples\": 1264.0}, \"condition\": {\"type\": \"CATEGORICAL_IS_IN\", \"attribute\": \"HomePlanet\", \"mask\": [\"Europa\"]}, \"children\": [{\"value\": {\"type\": \"PROBABILITY\", \"distribution\": [0.08823529411764706, 0.9117647058823529], \"num_examples\": 102.0}, \"condition\": {\"type\": \"NUMERICAL_IS_HIGHER_THAN\", \"attribute\": \"Age\", \"threshold\": 3.5}}, {\"value\": {\"type\": \"PROBABILITY\", \"distribution\": [0.3528399311531842, 0.6471600688468159], \"num_examples\": 1162.0}, \"condition\": {\"type\": \"CATEGORICAL_IS_IN\", \"attribute\": \"Cabin_num\", \"mask\": [\"82\", \"97\", \"27\", \"230\", \"3\", \"23\", \"60\", \"158\", \"142\", \"83\", \"43\", \"279\", \"225\", \"21\", \"186\", \"178\", \"107\", \"0\", \"47\", \"450\", \"166\", \"94\", \"81\", \"190\", \"151\", \"129\", \"119\", \"105\", \"103\", \"74\", \"32\", \"308\", \"297\", \"219\", \"218\", \"199\", \"98\", \"383\", \"330\", \"272\", \"26\", \"255\", \"252\", \"200\", \"198\", \"193\", \"173\", \"1411\", \"974\", \"734\", \"438\", \"41\", \"278\", \"266\", \"265\", \"249\", \"224\", \"148\", \"114\", \"111\", \"109\", \"659\", \"601\", \"525\", \"475\", \"377\", \"312\", \"309\", \"273\", \"263\", \"220\", \"179\", \"1278\", \"1026\", \"958\", \"872\", \"541\", \"505\", \"420\", \"261\", \"1494\", \"1448\", \"108\", \"1050\", \"999\", \"882\", \"839\", \"829\", \"762\", \"709\", \"602\", \"592\", \"582\", \"563\", \"547\", \"539\", \"517\", \"510\", \"478\", \"442\", \"390\", \"372\", \"355\", \"322\", \"304\", \"302\", \"256\", \"1498\", \"1455\", \"1339\", \"1146\", \"1131\", \"112\", \"1109\", \"1037\"]}}]}]}, {\"value\": {\"type\": \"PROBABILITY\", \"distribution\": [0.6716517857142857, 0.3283482142857143], \"num_examples\": 4480.0}, \"condition\": {\"type\": \"NUMERICAL_IS_HIGHER_THAN\", \"attribute\": \"RoomService\", \"threshold\": 343.0}, \"children\": [{\"value\": {\"type\": \"PROBABILITY\", \"distribution\": [0.8488372093023255, 0.1511627906976744], \"num_examples\": 1118.0}, \"condition\": {\"type\": \"CATEGORICAL_IS_IN\", \"attribute\": \"Cabin_num\", \"mask\": [\"82\", \"176\", \"96\", \"42\", \"27\", \"16\", \"91\", \"3\", \"247\", \"187\", \"35\", \"260\", \"258\", \"142\", \"83\", \"75\", \"72\", \"246\", \"186\", \"121\", \"0\", \"8\", \"78\", \"54\", \"47\", \"46\", \"166\", \"127\", \"1\", \"67\", \"291\", \"29\", \"283\", \"270\", \"259\", \"195\", \"151\", \"124\", \"119\", \"76\", \"74\", \"58\", \"281\", \"237\", \"229\", \"189\", \"185\", \"175\", \"170\", \"163\", \"1046\", \"10\", \"98\", \"7\", \"48\", \"339\", \"319\", \"317\", \"272\", \"232\", \"159\", \"134\", \"132\", \"126\", \"104\", \"51\", \"324\", \"315\", \"266\", \"265\", \"224\", \"210\", \"205\", \"2\", \"192\", \"100\", \"93\", \"893\", \"84\", \"64\", \"571\", \"523\", \"461\", \"377\", \"342\", \"309\", \"290\", \"284\", \"263\", \"244\", \"1653\", \"15\", \"595\", \"570\", \"52\", \"500\", \"420\", \"407\", \"398\", \"321\", \"305\", \"30\", \"296\", \"274\", \"180\", \"174\", \"165\", \"162\", \"1494\", \"108\", \"839\", \"838\", \"740\", \"691\", \"592\", \"591\", \"580\", \"568\", \"545\", \"521\", \"477\", \"390\", \"365\", \"347\", \"343\", \"335\", \"327\", \"282\", \"275\", \"177\", \"1453\", \"1387\", \"1339\", \"1118\", \"1109\", \"1077\"]}, \"children\": [{\"value\": {\"type\": \"PROBABILITY\", \"distribution\": [0.9257950530035336, 0.07420494699646643], \"num_examples\": 283.0}, \"condition\": {\"type\": \"CATEGORICAL_IS_IN\", \"attribute\": \"Cabin_num\", \"mask\": [\"176\", \"42\", \"91\", \"247\", \"260\", \"258\", \"83\", \"75\", \"121\", \"0\", \"46\", \"166\", \"127\", \"291\", \"29\", \"283\", \"195\", \"151\", \"124\", \"76\", \"74\", \"58\", \"281\", \"185\", \"170\", \"163\", \"98\", \"317\", \"272\", \"159\", \"134\", \"132\", \"126\", \"104\", \"324\", \"224\", \"210\", \"205\", \"2\", \"100\", \"893\", \"461\", \"342\", \"309\", \"290\", \"244\", \"595\", \"52\", \"500\", \"420\", \"398\", \"321\", \"296\", \"180\", \"174\", \"1494\", \"838\", \"592\", \"591\", \"580\", \"521\", \"390\", \"343\", \"335\", \"327\", \"1453\", \"1387\"]}}, {\"value\": {\"type\": \"PROBABILITY\", \"distribution\": [0.822754491017964, 0.17724550898203592], \"num_examples\": 835.0}, \"condition\": {\"type\": \"CATEGORICAL_IS_IN\", \"attribute\": \"Cabin_num\", \"mask\": [\"<OOD>\", \"19\", \"53\", \"44\", \"68\", \"25\", \"158\", \"95\", \"279\", \"238\", \"150\", \"13\", \"99\", \"5\", \"24\", \"226\", \"211\", \"194\", \"66\", \"62\", \"22\", \"190\", \"129\", \"61\", \"6\", \"253\", \"250\", \"213\", \"203\", \"130\", \"330\", \"299\", \"196\", \"161\", \"90\", \"292\", \"278\", \"143\", \"1194\", \"326\", \"301\", \"286\", \"257\", \"248\", \"220\", \"136\", \"1278\", \"1026\", \"69\", \"553\", \"505\", \"334\", \"1023\", \"889\", \"882\", \"88\", \"588\", \"575\", \"562\", \"517\", \"429\", \"358\", \"357\", \"325\", \"316\", \"31\", \"228\", \"164\", \"153\", \"1237\", \"1131\"]}}]}, {\"value\": {\"type\": \"PROBABILITY\", \"distribution\": [0.6127305175490779, 0.3872694824509221], \"num_examples\": 3362.0}, \"condition\": {\"type\": \"NUMERICAL_IS_HIGHER_THAN\", \"attribute\": \"Spa\", \"threshold\": 207.5}, \"children\": [{\"value\": {\"type\": \"PROBABILITY\", \"distribution\": [0.812223206377325, 0.18777679362267494], \"num_examples\": 1129.0}, \"condition\": {\"type\": \"NUMERICAL_IS_HIGHER_THAN\", \"attribute\": \"Spa\", \"threshold\": 2127.5}}, {\"value\": {\"type\": \"PROBABILITY\", \"distribution\": [0.5118674429019257, 0.48813255709807435], \"num_examples\": 2233.0}, \"condition\": {\"type\": \"NUMERICAL_IS_HIGHER_THAN\", \"attribute\": \"ShoppingMall\", \"threshold\": 1481.5}}]}]}]}, \"#tree_plot_e1bc9afff15f437eb827da681a3e99f7\")\n",
       "</script>\n"
      ],
      "text/plain": [
       "<IPython.core.display.HTML object>"
      ]
     },
     "execution_count": 22,
     "metadata": {},
     "output_type": "execute_result"
    }
   ],
   "source": [
    "tfdf.model_plotter.plot_model_in_colab(rf, tree_idx=0, max_depth=3)"
   ]
  },
  {
   "cell_type": "markdown",
   "id": "b0393468",
   "metadata": {
    "id": "1q5zxzuLmnjb",
    "papermill": {
     "duration": 0.02594,
     "end_time": "2023-09-08T12:04:18.896690",
     "exception": false,
     "start_time": "2023-09-08T12:04:18.870750",
     "status": "completed"
    },
    "tags": []
   },
   "source": [
    "# Evaluate the model on the Out of bag (OOB) data and the validation dataset\n",
    "\n",
    "Before training the dataset we have manually seperated 20% of the dataset for validation named as `valid_ds`.\n",
    "\n",
    "We can also use Out of bag (OOB) score to validate our RandomForestModel.\n",
    "To train a Random Forest Model, a set of random samples from training set are choosen by the algorithm and the rest of the samples are used to finetune the model.The subset of data that is not chosen is known as Out of bag data (OOB).\n",
    "OOB score is computed on the OOB data.\n",
    "\n",
    "Read more about OOB data [here](https://developers.google.com/machine-learning/decision-forests/out-of-bag).\n",
    "\n",
    "The training logs show the accuracy evaluated on the out-of-bag dataset according to the number of trees in the model. Let us plot this.\n",
    "\n",
    "Note: Larger values are better for this hyperparameter."
   ]
  },
  {
   "cell_type": "code",
   "execution_count": 23,
   "id": "43b68671",
   "metadata": {
    "execution": {
     "iopub.execute_input": "2023-09-08T12:04:18.950782Z",
     "iopub.status.busy": "2023-09-08T12:04:18.950093Z",
     "iopub.status.idle": "2023-09-08T12:04:19.195822Z",
     "shell.execute_reply": "2023-09-08T12:04:19.194463Z"
    },
    "id": "z7u4IuAQmnjb",
    "papermill": {
     "duration": 0.276653,
     "end_time": "2023-09-08T12:04:19.198706",
     "exception": false,
     "start_time": "2023-09-08T12:04:18.922053",
     "status": "completed"
    },
    "tags": []
   },
   "outputs": [
    {
     "data": {
      "image/png": "[encoded data removed]",
      "text/plain": [
       "<Figure size 640x480 with 1 Axes>"
      ]
     },
     "metadata": {},
     "output_type": "display_data"
    }
   ],
   "source": [
    "import matplotlib.pyplot as plt\n",
    "logs = rf.make_inspector().training_logs()\n",
    "plt.plot([log.num_trees for log in logs], [log.evaluation.accuracy for log in logs])\n",
    "plt.xlabel(\"Number of trees\")\n",
    "plt.ylabel(\"Accuracy (out-of-bag)\")\n",
    "plt.show()"
   ]
  },
  {
   "cell_type": "markdown",
   "id": "4dd54ad0",
   "metadata": {
    "id": "N24V7vhAmnjb",
    "papermill": {
     "duration": 0.025538,
     "end_time": "2023-09-08T12:04:19.250256",
     "exception": false,
     "start_time": "2023-09-08T12:04:19.224718",
     "status": "completed"
    },
    "tags": []
   },
   "source": [
    "We can also see some general stats on the OOB dataset:"
   ]
  },
  {
   "cell_type": "code",
   "execution_count": 24,
   "id": "62f82c9f",
   "metadata": {
    "execution": {
     "iopub.execute_input": "2023-09-08T12:04:19.304854Z",
     "iopub.status.busy": "2023-09-08T12:04:19.304038Z",
     "iopub.status.idle": "2023-09-08T12:04:19.314901Z",
     "shell.execute_reply": "2023-09-08T12:04:19.313467Z"
    },
    "id": "QTD92zMGmnjc",
    "papermill": {
     "duration": 0.04154,
     "end_time": "2023-09-08T12:04:19.317769",
     "exception": false,
     "start_time": "2023-09-08T12:04:19.276229",
     "status": "completed"
    },
    "tags": []
   },
   "outputs": [
    {
     "data": {
      "text/plain": [
       "Evaluation(num_examples=6978, accuracy=0.7986529091430209, loss=0.5386356085088552, rmse=None, ndcg=None, aucs=None, auuc=None, qini=None)"
      ]
     },
     "execution_count": 24,
     "metadata": {},
     "output_type": "execute_result"
    }
   ],
   "source": [
    "inspector = rf.make_inspector()\n",
    "inspector.evaluation()"
   ]
  },
  {
   "cell_type": "markdown",
   "id": "bb05d386",
   "metadata": {
    "id": "SuVS0BGXmnjd",
    "papermill": {
     "duration": 0.026321,
     "end_time": "2023-09-08T12:04:19.370678",
     "exception": false,
     "start_time": "2023-09-08T12:04:19.344357",
     "status": "completed"
    },
    "tags": []
   },
   "source": [
    "Now, let us run an evaluation using the validation dataset."
   ]
  },
  {
   "cell_type": "code",
   "execution_count": 25,
   "id": "2d0fadba",
   "metadata": {
    "execution": {
     "iopub.execute_input": "2023-09-08T12:04:19.426246Z",
     "iopub.status.busy": "2023-09-08T12:04:19.425530Z",
     "iopub.status.idle": "2023-09-08T12:04:20.298139Z",
     "shell.execute_reply": "2023-09-08T12:04:20.296527Z"
    },
    "id": "C0SfSxc0mnjd",
    "papermill": {
     "duration": 0.903165,
     "end_time": "2023-09-08T12:04:20.300918",
     "exception": false,
     "start_time": "2023-09-08T12:04:19.397753",
     "status": "completed"
    },
    "tags": []
   },
   "outputs": [
    {
     "name": "stdout",
     "output_type": "stream",
     "text": [
      "2/2 [==============================] - 1s 68ms/step - loss: 0.0000e+00 - accuracy: 0.7913\n",
      "loss: 0.0000\n",
      "accuracy: 0.7913\n"
     ]
    }
   ],
   "source": [
    "evaluation = rf.evaluate(x=valid_ds,return_dict=True)\n",
    "\n",
    "for name, value in evaluation.items():\n",
    "  print(f\"{name}: {value:.4f}\")"
   ]
  },
  {
   "cell_type": "markdown",
   "id": "07074cd7",
   "metadata": {
    "id": "cgAI1XrVmnje",
    "papermill": {
     "duration": 0.02671,
     "end_time": "2023-09-08T12:04:20.354629",
     "exception": false,
     "start_time": "2023-09-08T12:04:20.327919",
     "status": "completed"
    },
    "tags": []
   },
   "source": [
    "# Variable importances\n",
    "\n",
    "Variable importances generally indicate how much a feature contributes to the model predictions or quality. There are several ways to identify important features using TensorFlow Decision Forests.\n",
    "Let us list the available `Variable Importances` for Decision Trees:"
   ]
  },
  {
   "cell_type": "code",
   "execution_count": 26,
   "id": "9bd0d65f",
   "metadata": {
    "execution": {
     "iopub.execute_input": "2023-09-08T12:04:20.410433Z",
     "iopub.status.busy": "2023-09-08T12:04:20.409262Z",
     "iopub.status.idle": "2023-09-08T12:04:20.417745Z",
     "shell.execute_reply": "2023-09-08T12:04:20.416175Z"
    },
    "id": "BdPN_fV1mnje",
    "papermill": {
     "duration": 0.039089,
     "end_time": "2023-09-08T12:04:20.420142",
     "exception": false,
     "start_time": "2023-09-08T12:04:20.381053",
     "status": "completed"
    },
    "tags": []
   },
   "outputs": [
    {
     "name": "stdout",
     "output_type": "stream",
     "text": [
      "Available variable importances:\n",
      "\t INV_MEAN_MIN_DEPTH\n",
      "\t NUM_NODES\n",
      "\t NUM_AS_ROOT\n",
      "\t SUM_SCORE\n"
     ]
    }
   ],
   "source": [
    "print(f\"Available variable importances:\")\n",
    "for importance in inspector.variable_importances().keys():\n",
    "  print(\"\\t\", importance)"
   ]
  },
  {
   "cell_type": "markdown",
   "id": "20928985",
   "metadata": {
    "id": "dr-nVQwCmnje",
    "papermill": {
     "duration": 0.027058,
     "end_time": "2023-09-08T12:04:20.473907",
     "exception": false,
     "start_time": "2023-09-08T12:04:20.446849",
     "status": "completed"
    },
    "tags": []
   },
   "source": [
    "As an example, let us display the important features for the Variable Importance `NUM_AS_ROOT`.\n",
    "\n",
    "The larger the importance score for `NUM_AS_ROOT`, the more impact it has on the outcome of the model.\n",
    "\n",
    "By default, the list is sorted from the most important to the least. From the output you can infer that the feature at the top of the list is used as the root node in most number of trees in the random forest than any other feature."
   ]
  },
  {
   "cell_type": "code",
   "execution_count": 27,
   "id": "9ed48f42",
   "metadata": {
    "execution": {
     "iopub.execute_input": "2023-09-08T12:04:20.529672Z",
     "iopub.status.busy": "2023-09-08T12:04:20.529141Z",
     "iopub.status.idle": "2023-09-08T12:04:20.538153Z",
     "shell.execute_reply": "2023-09-08T12:04:20.536886Z"
    },
    "id": "etYOifhfmnje",
    "papermill": {
     "duration": 0.040239,
     "end_time": "2023-09-08T12:04:20.540948",
     "exception": false,
     "start_time": "2023-09-08T12:04:20.500709",
     "status": "completed"
    },
    "tags": []
   },
   "outputs": [
    {
     "data": {
      "text/plain": [
       "[(\"CryoSleep\" (1; #2), 113.0),\n",
       " (\"Spa\" (1; #10), 61.0),\n",
       " (\"RoomService\" (1; #7), 60.0),\n",
       " (\"VRDeck\" (1; #12), 38.0),\n",
       " (\"ShoppingMall\" (1; #8), 14.0),\n",
       " (\"FoodCourt\" (1; #5), 12.0),\n",
       " (\"Deck\" (4; #3), 1.0),\n",
       " (\"HomePlanet\" (4; #6), 1.0)]"
      ]
     },
     "execution_count": 27,
     "metadata": {},
     "output_type": "execute_result"
    }
   ],
   "source": [
    "# Each line is: (feature name, (index of the feature), importance score)\n",
    "inspector.variable_importances()[\"NUM_AS_ROOT\"]"
   ]
  },
  {
   "cell_type": "markdown",
   "id": "96a7ab25",
   "metadata": {
    "id": "DAtAR0vkmnje",
    "papermill": {
     "duration": 0.026533,
     "end_time": "2023-09-08T12:04:20.595224",
     "exception": false,
     "start_time": "2023-09-08T12:04:20.568691",
     "status": "completed"
    },
    "tags": []
   },
   "source": [
    "# Submission"
   ]
  },
  {
   "cell_type": "code",
   "execution_count": 28,
   "id": "68f15258",
   "metadata": {
    "execution": {
     "iopub.execute_input": "2023-09-08T12:04:20.650637Z",
     "iopub.status.busy": "2023-09-08T12:04:20.650198Z",
     "iopub.status.idle": "2023-09-08T12:04:21.328811Z",
     "shell.execute_reply": "2023-09-08T12:04:21.327492Z"
    },
    "id": "KHBRzBD9mnjf",
    "papermill": {
     "duration": 0.709775,
     "end_time": "2023-09-08T12:04:21.331609",
     "exception": false,
     "start_time": "2023-09-08T12:04:20.621834",
     "status": "completed"
    },
    "tags": []
   },
   "outputs": [
    {
     "name": "stdout",
     "output_type": "stream",
     "text": [
      "5/5 [==============================] - 1s 69ms/step\n"
     ]
    },
    {
     "data": {
      "text/html": [
       "<div>\n",
       "<style scoped>\n",
       "    .dataframe tbody tr th:only-of-type {\n",
       "        vertical-align: middle;\n",
       "    }\n",
       "\n",
       "    .dataframe tbody tr th {\n",
       "        vertical-align: top;\n",
       "    }\n",
       "\n",
       "    .dataframe thead th {\n",
       "        text-align: right;\n",
       "    }\n",
       "</style>\n",
       "<table border=\"1\" class=\"dataframe\">\n",
       "  <thead>\n",
       "    <tr style=\"text-align: right;\">\n",
       "      <th></th>\n",
       "      <th>PassengerId</th>\n",
       "      <th>Transported</th>\n",
       "    </tr>\n",
       "  </thead>\n",
       "  <tbody>\n",
       "    <tr>\n",
       "      <th>0</th>\n",
       "      <td>0013_01</td>\n",
       "      <td>True</td>\n",
       "    </tr>\n",
       "    <tr>\n",
       "      <th>1</th>\n",
       "      <td>0018_01</td>\n",
       "      <td>False</td>\n",
       "    </tr>\n",
       "    <tr>\n",
       "      <th>2</th>\n",
       "      <td>0019_01</td>\n",
       "      <td>True</td>\n",
       "    </tr>\n",
       "    <tr>\n",
       "      <th>3</th>\n",
       "      <td>0021_01</td>\n",
       "      <td>True</td>\n",
       "    </tr>\n",
       "    <tr>\n",
       "      <th>4</th>\n",
       "      <td>0023_01</td>\n",
       "      <td>False</td>\n",
       "    </tr>\n",
       "  </tbody>\n",
       "</table>\n",
       "</div>"
      ],
      "text/plain": [
       "  PassengerId  Transported\n",
       "0     0013_01         True\n",
       "1     0018_01        False\n",
       "2     0019_01         True\n",
       "3     0021_01         True\n",
       "4     0023_01        False"
      ]
     },
     "execution_count": 28,
     "metadata": {},
     "output_type": "execute_result"
    }
   ],
   "source": [
    "# Load the test dataset\n",
    "test_df = pd.read_csv('/kaggle/input/spaceship-titanic/test.csv')\n",
    "submission_id = test_df.PassengerId\n",
    "\n",
    "# Replace NaN values with zero\n",
    "test_df[['VIP', 'CryoSleep']] = test_df[['VIP', 'CryoSleep']].fillna(value=0)\n",
    "\n",
    "# Creating New Features - Deck, Cabin_num and Side from the column Cabin and remove Cabin\n",
    "test_df[[\"Deck\", \"Cabin_num\", \"Side\"]] = test_df[\"Cabin\"].str.split(\"/\", expand=True)\n",
    "test_df = test_df.drop('Cabin', axis=1)\n",
    "\n",
    "# Convert boolean to 1's and 0's\n",
    "test_df['VIP'] = test_df['VIP'].astype(int)\n",
    "test_df['CryoSleep'] = test_df['CryoSleep'].astype(int)\n",
    "\n",
    "# Convert pd dataframe to tf dataset\n",
    "test_ds = tfdf.keras.pd_dataframe_to_tf_dataset(test_df)\n",
    "\n",
    "# Get the predictions for testdata\n",
    "predictions = rf.predict(test_ds)\n",
    "n_predictions = (predictions > 0.5).astype(bool)\n",
    "output = pd.DataFrame({'PassengerId': submission_id,\n",
    "                       'Transported': n_predictions.squeeze()})\n",
    "\n",
    "output.head()"
   ]
  },
  {
   "cell_type": "code",
   "execution_count": 29,
   "id": "ba716ed6",
   "metadata": {
    "execution": {
     "iopub.execute_input": "2023-09-08T12:04:21.390715Z",
     "iopub.status.busy": "2023-09-08T12:04:21.389526Z",
     "iopub.status.idle": "2023-09-08T12:04:21.426091Z",
     "shell.execute_reply": "2023-09-08T12:04:21.424820Z"
    },
    "id": "OZuB6CdUmnjf",
    "papermill": {
     "duration": 0.069687,
     "end_time": "2023-09-08T12:04:21.429369",
     "exception": false,
     "start_time": "2023-09-08T12:04:21.359682",
     "status": "completed"
    },
    "tags": []
   },
   "outputs": [
    {
     "data": {
      "text/html": [
       "<div>\n",
       "<style scoped>\n",
       "    .dataframe tbody tr th:only-of-type {\n",
       "        vertical-align: middle;\n",
       "    }\n",
       "\n",
       "    .dataframe tbody tr th {\n",
       "        vertical-align: top;\n",
       "    }\n",
       "\n",
       "    .dataframe thead th {\n",
       "        text-align: right;\n",
       "    }\n",
       "</style>\n",
       "<table border=\"1\" class=\"dataframe\">\n",
       "  <thead>\n",
       "    <tr style=\"text-align: right;\">\n",
       "      <th></th>\n",
       "      <th>PassengerId</th>\n",
       "      <th>Transported</th>\n",
       "    </tr>\n",
       "  </thead>\n",
       "  <tbody>\n",
       "    <tr>\n",
       "      <th>0</th>\n",
       "      <td>0013_01</td>\n",
       "      <td>True</td>\n",
       "    </tr>\n",
       "    <tr>\n",
       "      <th>1</th>\n",
       "      <td>0018_01</td>\n",
       "      <td>False</td>\n",
       "    </tr>\n",
       "    <tr>\n",
       "      <th>2</th>\n",
       "      <td>0019_01</td>\n",
       "      <td>True</td>\n",
       "    </tr>\n",
       "    <tr>\n",
       "      <th>3</th>\n",
       "      <td>0021_01</td>\n",
       "      <td>True</td>\n",
       "    </tr>\n",
       "    <tr>\n",
       "      <th>4</th>\n",
       "      <td>0023_01</td>\n",
       "      <td>False</td>\n",
       "    </tr>\n",
       "  </tbody>\n",
       "</table>\n",
       "</div>"
      ],
      "text/plain": [
       "  PassengerId  Transported\n",
       "0     0013_01         True\n",
       "1     0018_01        False\n",
       "2     0019_01         True\n",
       "3     0021_01         True\n",
       "4     0023_01        False"
      ]
     },
     "execution_count": 29,
     "metadata": {},
     "output_type": "execute_result"
    }
   ],
   "source": [
    "sample_submission_df = pd.read_csv('/kaggle/input/spaceship-titanic/sample_submission.csv')\n",
    "sample_submission_df['Transported'] = n_predictions\n",
    "sample_submission_df.to_csv('/kaggle/working/submission.csv', index=False)\n",
    "sample_submission_df.head()"
   ]
  }
 ],
 "kernelspec": {
  "display_name": "Python 3",
  "language": "python",
  "name": "python3"
 },
 "language_info": {
  "codemirror_mode": {
   "name": "ipython",
   "version": 3
  },
  "file_extension": ".py",
  "mimetype": "text/x-python",
  "name": "python",
  "nbconvert_exporter": "python",
  "pygments_lexer": "ipython3",
  "version": "3.6.4"
 },
 "metadata": {
  "kernelspec": {
   "display_name": "Python 3",
   "language": "python",
   "name": "python3"
  },
  "language_info": {
   "codemirror_mode": {
    "name": "ipython",
    "version": 3
   },
   "file_extension": ".py",
   "mimetype": "text/x-python",
   "name": "python",
   "nbconvert_exporter": "python",
   "pygments_lexer": "ipython3",
   "version": "3.7.12"
  },
  "papermill": {
   "default_parameters": {},
   "duration": 103.639136,
   "end_time": "2023-09-08T12:04:24.651392",
   "environment_variables": {},
   "exception": null,
   "input_path": "__notebook__.ipynb",
   "output_path": "__notebook__.ipynb",
   "parameters": {},
   "start_time": "2023-09-08T12:02:41.012256",
   "version": "2.4.0"
  }
 },
 "nbformat": 4,
 "nbformat_minor": 5
}
